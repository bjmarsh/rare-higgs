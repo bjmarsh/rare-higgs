{
 "cells": [
  {
   "cell_type": "code",
   "execution_count": 15,
   "metadata": {},
   "outputs": [],
   "source": [
    "# Handling ROOT files\n",
    "import os, sys\n",
    "import numpy as np, pandas as pd\n",
    "import uproot, pickle\n",
    "# Plotting\n",
    "import matplotlib\n",
    "from matplottery import Hist1D,Hist2D, plot_stack\n",
    "import matplotlib.pyplot as plt\n",
    "# Machine Learning\n",
    "from sklearn.metrics import roc_curve\n",
    "import xgboost as xgb # BDT\n",
    "# Custom Tools\n",
    "from data import GetData\n",
    "# Jupyter Display Settings\n",
    "%matplotlib inline\n",
    "pd.set_option('display.max_rows', 20)"
   ]
  },
  {
   "cell_type": "code",
   "execution_count": 16,
   "metadata": {},
   "outputs": [],
   "source": [
    "# Manualy set signal name\n",
    "signal = \"WH_HtoRhoGammaPhiGamma\""
   ]
  },
  {
   "cell_type": "code",
   "execution_count": 17,
   "metadata": {},
   "outputs": [
    {
     "name": "stdout",
     "output_type": "stream",
     "text": [
      "Loaded Dataframes:\n",
      "    TTJets_SingleLeptFromT\n",
      "    TTGamma_SingleLeptFromTbar\n",
      "    WGToLNuG\n",
      "    TTJets_SingleLeptFromTbar\n",
      "    WJetsToLNu\n",
      "    WH_HtoRhoGammaPhiGamma\n",
      "    TTGamma_SingleLeptFromT\n"
     ]
    }
   ],
   "source": [
    "# Get data\n",
    "dataframes = GetData(\"outputs\", verbose=True)\n",
    "# Get list of sample names\n",
    "samples = dataframes.keys()\n",
    "# Move signal name to front\n",
    "samples.insert(0, samples.pop(samples.index(signal)))\n",
    "# Add bookkeeping columns, delete bad rows\n",
    "for name, df in dataframes.iteritems():\n",
    "    # Add signal bool and dataset name columns\n",
    "    df[\"stype\"] = samples.index(name)\n",
    "    df[\"signal\"] = (df[\"stype\"] == 0)\n",
    "    # Require found lepton, photon, meson\n",
    "    df = df.drop(df.query(\"recoWLepton_pt < 0 or recoPhi_pt < 0 or recoRho_pt < 0 or recoGamma_pt < 0\").index)\n",
    "    # Avoid double-counting prompt photons\n",
    "    genGammaMatch = ( df.genRecoGamma_isMatch == 1 )\n",
    "    minGammaParton = ( df.minGammaParton_dR > 0.4 )\n",
    "    if name in [\"WGToLNuG\", \"TTGamma_SingleLeptFromT\", \"TTGamma_SingleLeptFromTbar\"]:\n",
    "        df = df.drop(df.query(\"not @genGammaMatch or not @minGammaParton\").index)\n",
    "    elif name in [\"WJetsToLNu\", \"TTJets_SingleLeptFromT\", \"TTJets_SingleLeptFromTbar\"]:\n",
    "        df = df.drop(df.query(\"@genGammaMatch and @minGammaParton\").index)\n",
    "    # Update dataframe in dictionary\n",
    "    dataframes[name] = df"
   ]
  },
  {
   "cell_type": "code",
   "execution_count": 20,
   "metadata": {},
   "outputs": [],
   "source": [
    "# Get BDT model\n",
    "bst = pickle.load(open(\"bdt.pkl\", \"r\"))\n",
    "# Get bookkeeping columns to exclude\n",
    "branches = dataframes[signal].keys()\n",
    "excludes = [\"signal\", \"stype\", \"run\", \"lumi\", \"event\", \"scale1fb\",\n",
    "           \"recoMeson_nCands\", \"recoWLepton_nLep\", \"minGammaParton_dR\"]\n",
    "for bname in branches:\n",
    "    if \"gen\" in bname: excludes.append(bname)\n",
    "    elif \"_mass\" in bname: excludes.append(bname)\n",
    "    elif \"Rho\" in bname: excludes.append(bname)\n",
    "    elif \"Pip\" in bname: excludes.append(bname)\n",
    "    elif \"Pim\" in bname: excludes.append(bname)\n",
    "\n",
    "# Collect selected features\n",
    "features = sorted(list(set(dataframes[signal].columns.values)-set(excludes)))"
   ]
  },
  {
   "cell_type": "code",
   "execution_count": 48,
   "metadata": {},
   "outputs": [
    {
     "name": "stdout",
     "output_type": "stream",
     "text": [
      "Sig/sqrt(Bg) Ratio (BDT): 2848.76516603\n",
      "Sig/sqrt(Bg) Ratio (cut): 2817.55999371\n"
     ]
    }
   ],
   "source": [
    "# Concatenate dataframes\n",
    "data = pd.concat(dataframes.values())\n",
    "# Get BDT predictions\n",
    "preds = bst.predict(xgb.DMatrix(data[features]))\n",
    "# BDT\n",
    "bdtBased = data[preds > 0.9]\n",
    "# Define cuts\n",
    "massCut = ((data.recoHiggs_mass > 115) & (data.recoHiggs_mass < 135))\n",
    "dRCut = (data.recoKpKm_dR < 0.025)\n",
    "ptCut = (data.recoKp_pt > 25)\n",
    "isoCut = (data.recoPhi_iso < 3)\n",
    "# Cut-based\n",
    "cutBased = data[massCut & dRCut & ptCut & isoCut]\n",
    "# Get signal vs. background ratio\n",
    "bdtRatio = float(len(bdtBased.query(\"signal == 1\").index))/(len(bdtBased.query(\"signal == 0\").index)**0.5)\n",
    "cutRatio = float(len(cutBased.query(\"signal == 1\").index))/(len(cutBased.query(\"signal == 0\").index)**0.5)\n",
    "print(\"Sig/sqrt(Bg) Ratio (BDT): {}\".format(bdtRatio))\n",
    "print(\"Sig/sqrt(Bg) Ratio (cut): {}\".format(cutRatio))"
   ]
  },
  {
   "cell_type": "code",
   "execution_count": 54,
   "metadata": {},
   "outputs": [
    {
     "data": {
      "image/png": "[encoded data removed]",
      "text/plain": [
       "<Figure size 432x288 with 1 Axes>"
      ]
     },
     "metadata": {},
     "output_type": "display_data"
    }
   ],
   "source": [
    "# BDT ROC Curve\n",
    "fpr, tpr, thresh = roc_curve(data[\"signal\"],preds)\n",
    "predCut = np.where(thresh > 0.9)[0][-1]\n",
    "predFPR = fpr[predCut]\n",
    "predTPR = tpr[predCut]\n",
    "# Cut-based\n",
    "cutsFPR = float(len(cutBased.query(\"signal == 0\").index))/len(data.query(\"signal == 0\").index)\n",
    "cutsTPR = float(len(cutBased.query(\"signal == 1\").index))/len(data.query(\"signal == 1\").index)\n",
    "# Plot\n",
    "bins = np.linspace(0.,1.,30)\n",
    "plt.plot(fpr, tpr, label=\"BDT (AUC = {:.2f})\".format(np.trapz(tpr,fpr)));\n",
    "plt.plot(predFPR,predTPR,\"b*\");\n",
    "plt.plot(cutsFPR,cutsTPR,\"r*\");\n",
    "# Settings\n",
    "plt.xlabel(\"background efficiency\");\n",
    "plt.ylabel(\"signal efficiency\");\n",
    "plt.legend();"
   ]
  },
  {
   "cell_type": "code",
   "execution_count": null,
   "metadata": {},
   "outputs": [],
   "source": []
  }
 ],
 "metadata": {
  "kernelspec": {
   "display_name": "Python 2",
   "language": "python",
   "name": "python2"
  },
  "language_info": {
   "codemirror_mode": {
    "name": "ipython",
    "version": 2
   },
   "file_extension": ".py",
   "mimetype": "text/x-python",
   "name": "python",
   "nbconvert_exporter": "python",
   "pygments_lexer": "ipython2",
   "version": "2.7.14+"
  }
 },
 "nbformat": 4,
 "nbformat_minor": 2
}
