{
 "cells": [
  {
   "cell_type": "code",
   "execution_count": 1,
   "metadata": {},
   "outputs": [],
   "source": [
    "# Handling ROOT files\n",
    "import os, sys, json\n",
    "import numpy as np, pandas as pd\n",
    "import uproot, pickle\n",
    "# Plotting\n",
    "import matplotlib\n",
    "from matplottery import Hist1D,Hist2D, plot_stack\n",
    "import matplotlib.pyplot as plt\n",
    "# Machine Learning\n",
    "from sklearn.metrics import roc_curve\n",
    "import xgboost as xgb # BDT\n",
    "# Custom Tools\n",
    "from data import GetData\n",
    "from config import config\n",
    "# Jupyter Display Settings\n",
    "%matplotlib inline\n",
    "pd.set_option('display.max_rows', 20)"
   ]
  },
  {
   "cell_type": "code",
   "execution_count": 2,
   "metadata": {},
   "outputs": [
    {
     "name": "stdout",
     "output_type": "stream",
     "text": [
      "Loaded Dataframes:\n",
      "    TTJets_SingleLeptFromT\n",
      "    TTGamma_SingleLeptFromTbar\n",
      "    WGToLNuG\n",
      "    TTJets_SingleLeptFromTbar\n",
      "    WJetsToLNu\n",
      "    WH_HtoRhoGammaPhiGamma\n",
      "    TTGamma_SingleLeptFromT\n"
     ]
    }
   ],
   "source": [
    "# Get data\n",
    "dataframes = GetData(\"outputs\", verbose=True)\n",
    "# Concatenate dataframes\n",
    "data = pd.concat(dataframes.values())\n",
    "# Drop rho or phi events\n",
    "if config[\"analysis\"] == \"phi\":\n",
    "    data = data.drop(data.query(\"genHiggsMeson_id == 113\").index)\n",
    "elif config[\"analysis\"] == \"rho\":\n",
    "    data = data.drop(data.query(\"genKp_pt > 0\").index)"
   ]
  },
  {
   "cell_type": "code",
   "execution_count": 3,
   "metadata": {},
   "outputs": [],
   "source": [
    "# Get BDT model\n",
    "bst = pickle.load(open(\"bdt.pkl\", \"r\"))\n",
    "# Get BDT features\n",
    "with open (\"features.json\", \"r\") as fin:\n",
    "    features = json.load(fin)"
   ]
  },
  {
   "cell_type": "code",
   "execution_count": 4,
   "metadata": {},
   "outputs": [
    {
     "name": "stdout",
     "output_type": "stream",
     "text": [
      "Sig/sqrt(Bg) Ratio (BDT): 5781.28982274\n",
      "Sig/sqrt(Bg) Ratio (cut): 3955.9687777\n"
     ]
    }
   ],
   "source": [
    "# Get BDT predictions\n",
    "preds = bst.predict(xgb.DMatrix(data[features]))\n",
    "# Define cuts\n",
    "massCut = ((data.recoHiggs_mass > 115) & (data.recoHiggs_mass < 135))\n",
    "phiMassCut = ((data.recoPhi_mass > 0.95) & (data.recoPhi_mass < 1.05))\n",
    "dRCut = (data.recoKpKm_dR < 0.025)\n",
    "ptCut = (data.recoKp_pt > 25)\n",
    "isoCut = (data.recoPhi_iso < 3)\n",
    "# Cut-based\n",
    "cutBased = data[massCut & dRCut & ptCut & isoCut & phiMassCut]\n",
    "# BDT\n",
    "bdtBased = data[massCut & (preds > 0.9)]\n",
    "# Get signal vs. background ratio\n",
    "bdtRatio = float(len(bdtBased.query(\"signal == 1\").index))/(len(bdtBased.query(\"signal == 0\").index)**0.5)\n",
    "cutRatio = float(len(cutBased.query(\"signal == 1\").index))/(len(cutBased.query(\"signal == 0\").index)**0.5)\n",
    "print(\"Sig/sqrt(Bg) Ratio (BDT): {}\".format(bdtRatio))\n",
    "print(\"Sig/sqrt(Bg) Ratio (cut): {}\".format(cutRatio))"
   ]
  },
  {
   "cell_type": "code",
   "execution_count": 57,
   "metadata": {},
   "outputs": [
    {
     "data": {
      "image/png": "[encoded data removed]",
      "text/plain": [
       "<Figure size 432x288 with 1 Axes>"
      ]
     },
     "metadata": {},
     "output_type": "display_data"
    }
   ],
   "source": [
    "# BDT ROC Curve\n",
    "fpr, tpr, thresh = roc_curve(data[\"signal\"],preds)\n",
    "bdtPoint = np.where(thresh > 0.9)[0][-1]\n",
    "predFPR = fpr[bdtPoint]\n",
    "predTPR = tpr[bdtPoint]\n",
    "# Cut-based\n",
    "cutsFPR = float(len(cutBased.query(\"signal == 0\").index))/len(data.query(\"signal == 0 and @massCut\").index)\n",
    "cutsTPR = float(len(cutBased.query(\"signal == 1\").index))/len(data.query(\"signal == 1 and @massCut\").index)\n",
    "cutsTPR_onROC = tpr[np.where(fpr < cutsFPR)[0][-1]]\n",
    "# Plot\n",
    "bins = np.linspace(0.,1.,30)\n",
    "plt.semilogx(fpr, tpr, label=\"BDT (AUC = {:.2f})\".format(np.trapz(tpr,fpr)));\n",
    "plt.plot([cutsFPR, cutsFPR], [cutsTPR, cutsTPR_onROC], 'k--')\n",
    "plt.plot(predFPR, predTPR, \"b*\", label=\"BDT Working Point\", markersize=10);\n",
    "plt.plot(cutsFPR, cutsTPR, \"r*\", label=\"Cut-based Working Point\", markersize=10);\n",
    "plt.text(cutsFPR+0.01, cutsTPR, str(round((cutsTPR-cutsTPR_onROC)*100,2))+\"%\", fontsize=10)\n",
    "# Settings\n",
    "plt.xlabel(\"background efficiency\");\n",
    "plt.ylabel(\"signal efficiency\");\n",
    "plt.legend();"
   ]
  },
  {
   "cell_type": "code",
   "execution_count": null,
   "metadata": {},
   "outputs": [],
   "source": []
  }
 ],
 "metadata": {
  "kernelspec": {
   "display_name": "Python 2",
   "language": "python",
   "name": "python2"
  },
  "language_info": {
   "codemirror_mode": {
    "name": "ipython",
    "version": 2
   },
   "file_extension": ".py",
   "mimetype": "text/x-python",
   "name": "python",
   "nbconvert_exporter": "python",
   "pygments_lexer": "ipython2",
   "version": "2.7.14+"
  }
 },
 "nbformat": 4,
 "nbformat_minor": 2
}
