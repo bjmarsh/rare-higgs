{
 "cells": [
  {
   "cell_type": "markdown",
   "metadata": {},
   "source": [
    "# Boosted Decision Tree (BDT) for $H \\rightarrow (\\rho:\\phi)+\\gamma$ Analysis"
   ]
  },
  {
   "cell_type": "code",
   "execution_count": 41,
   "metadata": {},
   "outputs": [],
   "source": [
    "# General\n",
    "import os, sys\n",
    "# Handling ROOT files\n",
    "import numpy as np\n",
    "import uproot\n",
    "import pandas as pd\n",
    "# Plotting\n",
    "import matplotlib\n",
    "from matplottery import Hist1D, Hist2D, plot_stack\n",
    "import matplotlib.pyplot as plt\n",
    "# Machine Learning\n",
    "from sklearn.ensemble import GradientBoostingClassifier\n",
    "from sklearn.model_selection import train_test_split\n",
    "from sklearn.metrics import roc_curve\n",
    "import xgboost as xgb #BDT\n",
    "import ast\n",
    "import json\n",
    "# Custom Tools\n",
    "from data import GetData\n",
    "# Jupyter Display Settings\n",
    "%matplotlib inline\n",
    "pd.set_option('display.max_rows', 20)"
   ]
  },
  {
   "cell_type": "markdown",
   "metadata": {},
   "source": [
    "## Global Variables"
   ]
  },
  {
   "cell_type": "code",
   "execution_count": 42,
   "metadata": {},
   "outputs": [],
   "source": [
    "# Manualy set signal name\n",
    "signal = \"WH_HtoRhoGammaPhiGamma\""
   ]
  },
  {
   "cell_type": "markdown",
   "metadata": {},
   "source": [
    "## Get Data"
   ]
  },
  {
   "cell_type": "code",
   "execution_count": 43,
   "metadata": {},
   "outputs": [
    {
     "name": "stdout",
     "output_type": "stream",
     "text": [
      "Loaded Dataframes:\n",
      "    TTJets_SingleLeptFromT\n",
      "    TTGamma_SingleLeptFromTbar\n",
      "    WGToLNuG\n",
      "    TTJets_SingleLeptFromTbar\n",
      "    WJetsToLNu\n",
      "    WH_HtoRhoGammaPhiGamma\n",
      "    TTGamma_SingleLeptFromT\n"
     ]
    }
   ],
   "source": [
    "# Get dataframes\n",
    "dataframes = GetData(\"outputs\", verbose=True)"
   ]
  },
  {
   "cell_type": "code",
   "execution_count": 44,
   "metadata": {},
   "outputs": [
    {
     "name": "stdout",
     "output_type": "stream",
     "text": [
      "Branch Names:\n",
      "WH_HtoRhoGammaPhiGamma, TTJets_SingleLeptFromT, TTGamma_SingleLeptFromTbar, WGToLNuG, TTJets_SingleLeptFromTbar, WJetsToLNu, TTGamma_SingleLeptFromT\n"
     ]
    }
   ],
   "source": [
    "# Get list of sample names\n",
    "samples = dataframes.keys()\n",
    "# Move signal name to front\n",
    "samples.insert(0, samples.pop(samples.index(signal)))\n",
    "# Print sample names\n",
    "print(\"Branch Names:\\n\"+\", \".join(samples))"
   ]
  },
  {
   "cell_type": "code",
   "execution_count": 45,
   "metadata": {},
   "outputs": [
    {
     "name": "stdout",
     "output_type": "stream",
     "text": [
      "Branch Names:\n",
      "run, lumi, event, scale1fb, genRecoGamma_dR, genRecoPhi_dR, genRecoRho_dR, genW_pt, genW_eta, genW_phi, genW_mass, genWLepton_id, genWLepton_pt, genWLepton_eta, genWLepton_phi, genHiggs_pt, genHiggs_eta, genHiggs_phi, genHiggs_mass, genHiggsMeson_id, genHiggsMeson_pt, genHiggsMeson_eta, genHiggsMeson_phi, genHiggsMeson_mass, genHiggsMesonGamma_dR, genKm_pt, genKm_phi, genKm_eta, genKp_pt, genKp_phi, genKp_eta, genKpKm_dR, genGamma_pt, genGamma_phi, genGamma_eta, recoHiggs_mass, recoMeson_nCands, recoPhi_mass, recoPhi_pt, recoPhi_eta, recoPhi_phi, recoPhi_iso, recoKm_pt, recoKm_eta, recoKm_phi, recoKm_iso, recoKp_pt, recoKp_eta, recoKp_phi, recoKp_iso, recoKpKm_dR, recoRho_mass, recoRho_pt, recoRho_eta, recoRho_phi, recoRho_iso, recoPim_pt, recoPim_eta, recoPim_phi, recoPim_iso, recoPip_pt, recoPip_eta, recoPip_phi, recoPip_iso, recoPipPim_dR, recoGamma_pt, recoGamma_phi, recoGamma_eta, recoGamma_iso, genRecoGamma_isMatch, minGammaParton_dR, recoWLepton_id, recoWLepton_pt, recoWLepton_eta, recoWLepton_phi, recoWLepton_nLep\n"
     ]
    }
   ],
   "source": [
    "# Get list of branch names\n",
    "branches = dataframes[signal].keys()\n",
    "# Print branch names\n",
    "print(\"Branch Names:\\n\"+\", \".join(branches))"
   ]
  },
  {
   "cell_type": "code",
   "execution_count": 46,
   "metadata": {},
   "outputs": [],
   "source": [
    "# Add signal bool and dataset name columns\n",
    "for name, df in dataframes.iteritems():\n",
    "    df[\"stype\"] = samples.index(name)\n",
    "    df[\"signal\"] = (df[\"stype\"] == 0)\n",
    "\n",
    "# Concatenate dataframes\n",
    "data = pd.concat(dataframes.values())\n",
    "        \n",
    "# Get bookkeeping columns to exclude in training\n",
    "exclude = [\"signal\", \"stype\", \"run\", \"lumi\", \"event\", \"scale1fb\",\n",
    "           \"recoMeson_nCands\", \"recoWLepton_nLep\", \"minGammaParton_dR\"]\n",
    "for bname in branches:\n",
    "    if \"gen\" in bname: exclude.append(bname)\n",
    "    elif \"_mass\" in bname: exclude.append(bname)\n",
    "\n",
    "# Collect selected features\n",
    "features = sorted(list(set(df.columns.values)-set(exclude)))"
   ]
  },
  {
   "cell_type": "code",
   "execution_count": 47,
   "metadata": {},
   "outputs": [
    {
     "name": "stdout",
     "output_type": "stream",
     "text": [
      "Selected Feature Names:\n",
      "recoGamma_eta, recoGamma_iso, recoGamma_phi, recoGamma_pt, recoKm_eta, recoKm_iso, recoKm_phi, recoKm_pt, recoKpKm_dR, recoKp_eta, recoKp_iso, recoKp_phi, recoKp_pt, recoPhi_eta, recoPhi_iso, recoPhi_phi, recoPhi_pt, recoPim_eta, recoPim_iso, recoPim_phi, recoPim_pt, recoPipPim_dR, recoPip_eta, recoPip_iso, recoPip_phi, recoPip_pt, recoRho_eta, recoRho_iso, recoRho_phi, recoRho_pt, recoWLepton_eta, recoWLepton_id, recoWLepton_phi, recoWLepton_pt\n",
      "Excluded Feature Names:\n",
      "signal, stype, run, lumi, event, scale1fb, recoMeson_nCands, recoWLepton_nLep, minGammaParton_dR, genRecoGamma_dR, genRecoPhi_dR, genRecoRho_dR, genW_pt, genW_eta, genW_phi, genW_mass, genWLepton_id, genWLepton_pt, genWLepton_eta, genWLepton_phi, genHiggs_pt, genHiggs_eta, genHiggs_phi, genHiggs_mass, genHiggsMeson_id, genHiggsMeson_pt, genHiggsMeson_eta, genHiggsMeson_phi, genHiggsMeson_mass, genHiggsMesonGamma_dR, genKm_pt, genKm_phi, genKm_eta, genKp_pt, genKp_phi, genKp_eta, genKpKm_dR, genGamma_pt, genGamma_phi, genGamma_eta, recoHiggs_mass, recoPhi_mass, recoRho_mass, genRecoGamma_isMatch\n"
     ]
    }
   ],
   "source": [
    "# Display selected features\n",
    "print(\"Selected Feature Names:\\n\"+\", \".join(features))\n",
    "# Display excluded features\n",
    "print(\"Excluded Feature Names:\\n\"+\", \".join(exclude))"
   ]
  },
  {
   "cell_type": "code",
   "execution_count": 48,
   "metadata": {},
   "outputs": [],
   "source": [
    "# Weigh *_pt columns by reco Higgs mass\n",
    "for col in data.columns:\n",
    "    if \"_pt\" in col and col not in exclude:\n",
    "        data[col] = np.where(data[col] != -999, data[col], data[col]/data[\"recoHiggs_mass\"])"
   ]
  },
  {
   "cell_type": "code",
   "execution_count": 49,
   "metadata": {},
   "outputs": [],
   "source": [
    "# Split dataframe for training and testing\n",
    "dummyWeights = np.ones(len(data[\"signal\"])) # in place of data[\"weights\"]\n",
    "x_train, x_test, y_train, y_test, stype_train, stype_test, weights_train, weights_test = train_test_split(\n",
    "                data[features],\n",
    "                data[\"signal\"],\n",
    "                data[\"stype\"],\n",
    "                dummyWeights,\n",
    "                test_size=0.25, random_state=42,\n",
    "                )"
   ]
  },
  {
   "cell_type": "markdown",
   "metadata": {},
   "source": [
    "## Train BDT"
   ]
  },
  {
   "cell_type": "code",
   "execution_count": 51,
   "metadata": {},
   "outputs": [],
   "source": [
    "dump_name = \"rpg.h\"\n",
    "\n",
    "# Sample selection (stype == 0 <--> signal)\n",
    "sel_test = ( (stype_test == 0) | (stype_test == samples.index(\"WJetsToLNu\")) )\n",
    "sel_train = ( (stype_train == 0) | (stype_train == samples.index(\"WJetsToLNu\")) )\n",
    "\n",
    "# BDT Input\n",
    "dtrain = xgb.DMatrix( x_train[sel_train], label=y_train[sel_train], weight=np.abs(weights_train[sel_train]))\n",
    "dtest = xgb.DMatrix( x_test[sel_test], label=y_test[sel_test], weight=np.abs(weights_test[sel_test]))\n",
    "evallist  = [(dtrain,'train'), (dtest,'eval')]\n",
    "\n",
    "# BDT Parameters Setup\n",
    "param = {}\n",
    "param['objective'] = 'binary:logistic'\n",
    "\n",
    "# BDT Knobs (Parameters)\n",
    "num_round = 20\n",
    "param['eta'] = 0.07\n",
    "param['max_depth'] = 4\n",
    "param['silent'] = 1\n",
    "param['nthread'] = 4\n",
    "param['eval_metric'] = \"auc\"\n",
    "param['subsample'] = 0.6\n",
    "param['alpha'] = 8.0\n",
    "param['gamma'] = 2.0\n",
    "param['lambda'] = 1.0\n",
    "param['min_child_weight'] = 1.0\n",
    "param['colsample_bytree'] = 1.0"
   ]
  },
  {
   "cell_type": "code",
   "execution_count": 52,
   "metadata": {},
   "outputs": [],
   "source": [
    "# Get pos/neg weights\n",
    "sumw_pos = np.abs(dtrain.get_weight()[dtrain.get_label()==1]).sum()\n",
    "sumw_neg = np.abs(dtrain.get_weight()[dtrain.get_label()==0]).sum()\n",
    "param[\"scale_pos_weight\"] = sumw_neg/sumw_pos"
   ]
  },
  {
   "cell_type": "code",
   "execution_count": 53,
   "metadata": {},
   "outputs": [
    {
     "name": "stdout",
     "output_type": "stream",
     "text": [
      "[0]\ttrain-auc:0.946982\teval-auc:0.946031\n",
      "Multiple eval metrics have been passed: 'eval-auc' will be used for early stopping.\n",
      "\n",
      "Will train until eval-auc hasn't improved in 15 rounds.\n",
      "[1]\ttrain-auc:0.951873\teval-auc:0.951112\n",
      "[2]\ttrain-auc:0.95212\teval-auc:0.951507\n",
      "[3]\ttrain-auc:0.953294\teval-auc:0.952483\n",
      "[4]\ttrain-auc:0.956746\teval-auc:0.955954\n",
      "[5]\ttrain-auc:0.957315\teval-auc:0.956584\n",
      "[6]\ttrain-auc:0.958971\teval-auc:0.95828\n",
      "[7]\ttrain-auc:0.959274\teval-auc:0.958591\n",
      "[8]\ttrain-auc:0.959409\teval-auc:0.958736\n",
      "[9]\ttrain-auc:0.959842\teval-auc:0.95914\n",
      "[10]\ttrain-auc:0.960478\teval-auc:0.959789\n",
      "[11]\ttrain-auc:0.961201\teval-auc:0.960456\n",
      "[12]\ttrain-auc:0.961881\teval-auc:0.961097\n",
      "[13]\ttrain-auc:0.961986\teval-auc:0.96123\n",
      "[14]\ttrain-auc:0.962355\teval-auc:0.961601\n",
      "[15]\ttrain-auc:0.963032\teval-auc:0.962295\n",
      "[16]\ttrain-auc:0.963261\teval-auc:0.962498\n",
      "[17]\ttrain-auc:0.963616\teval-auc:0.962868\n",
      "[18]\ttrain-auc:0.96395\teval-auc:0.963211\n",
      "[19]\ttrain-auc:0.964188\teval-auc:0.963411\n"
     ]
    }
   ],
   "source": [
    "# Train\n",
    "bst = xgb.train( param.items(), dtrain, num_round, evallist, early_stopping_rounds=15 )"
   ]
  },
  {
   "cell_type": "code",
   "execution_count": 54,
   "metadata": {},
   "outputs": [],
   "source": [
    "# Get predictions\n",
    "preds_train = bst.predict(xgb.DMatrix(x_train))\n",
    "preds_test = bst.predict(xgb.DMatrix(x_test))"
   ]
  },
  {
   "cell_type": "markdown",
   "metadata": {},
   "source": [
    "## Evaluate Performance"
   ]
  },
  {
   "cell_type": "code",
   "execution_count": 66,
   "metadata": {},
   "outputs": [
    {
     "data": {
      "image/png": "[encoded data removed]",
      "text/plain": [
       "<Figure size 1152x432 with 2 Axes>"
      ]
     },
     "metadata": {},
     "output_type": "display_data"
    }
   ],
   "source": [
    "# Suplots setup\n",
    "fig, axes = plt.subplots(1,2,figsize=(16,6))\n",
    "\n",
    "# Subplot 1: Plot ROC curves\n",
    "plt.subplot(1, 2, 1)\n",
    "# Test ROC Curve\n",
    "fpr, tpr, thresh = roc_curve(y_test,preds_test)\n",
    "plt.plot(fpr, tpr, label=\"test set (AUC = {:.2f})\".format(np.trapz(tpr,fpr)));\n",
    "# Train ROC Curve\n",
    "fpr, tpr, thresh = roc_curve(y_train,preds_train)\n",
    "plt.plot(fpr, tpr, label=\"train set (AUC = {:.2f})\".format(np.trapz(tpr,fpr)));\n",
    "# Settings\n",
    "plt.xlabel(\"background efficiency\");\n",
    "plt.ylabel(\"signal efficiency\");\n",
    "plt.legend();\n",
    "\n",
    "# Subplot 2: Plot distribution of BDT outputs\n",
    "plt.subplot(1, 2, 2)\n",
    "bins = np.linspace(0.,1.,30)\n",
    "# Training - Background\n",
    "plt.hist(preds_train[y_train==0], weights=weights_train[y_train==0], bins=bins,histtype=\"stepfilled\",alpha=0.45, density=True, label=\"bkg, train\",color=\"C0\");\n",
    "# Training - Signal\n",
    "plt.hist(preds_train[y_train==1], weights=weights_train[y_train==1], bins=bins,histtype=\"stepfilled\",alpha=0.45, density=True, label=\"sig, train\",color=\"C3\");\n",
    "# Testing - Background\n",
    "plt.hist(preds_test[y_test==0], weights=weights_test[y_test==0], bins=bins,histtype=\"step\",alpha=1.0, density=True, label=\"bkg, test\",color=\"C0\", lw=1.5, linestyle=\"solid\");\n",
    "# Testing - Signal\n",
    "plt.hist(preds_test[y_test==1], weights=weights_test[y_test==1], bins=bins,histtype=\"step\",alpha=1.0, density=True, label=\"sig, test\",color=\"C3\", lw=1.5, linestyle=\"solid\");\n",
    "# Settings\n",
    "plt.xlabel(\"bdt output\");"
   ]
  },
  {
   "cell_type": "code",
   "execution_count": 145,
   "metadata": {
    "scrolled": true
   },
   "outputs": [
    {
     "name": "stdout",
     "output_type": "stream",
     "text": [
      "| Cut             | Gain            |\n",
      "| recoPim_iso     | 14.4100675467   |\n",
      "| recoKp_iso      | 19.5235481      |\n",
      "| recoKm_iso      | 190.265847225   |\n",
      "| recoPim_pt      | 274.60323445    |\n",
      "| recoWLepton_eta | 338.336456      |\n",
      "| recoPip_iso     | 369.78368975    |\n",
      "| recoKm_pt       | 390.89975       |\n",
      "| recoWLepton_pt  | 447.316653534   |\n",
      "| recoKpKm_dR     | 451.792673091   |\n",
      "| recoKp_pt       | 574.299438      |\n",
      "| recoWLepton_phi | 1336.45825      |\n",
      "| recoPhi_pt      | 1474.49772553   |\n",
      "| recoPipPim_dR   | 1655.76086379   |\n",
      "| recoRho_iso     | 2308.0697007    |\n",
      "| recoPhi_iso     | 3069.01198751   |\n",
      "| recoRho_pt      | 5511.55700076   |\n",
      "| recoGamma_pt    | 8158.4117049    |\n",
      "| recoGamma_eta   | 36714.6516      |\n"
     ]
    }
   ],
   "source": [
    "# Get cut scores\n",
    "scores = bst.get_score(importance_type='gain')\n",
    "# Print as table\n",
    "length = 0\n",
    "for cut in scores.keys():\n",
    "    if len(cut) > length:\n",
    "        length = len(cut)\n",
    "print (\"| Cut{0:{length}} | Gain{0:<{length}}|\".format(\"\", length=length-3))\n",
    "for cut, gain in sorted(scores.items(), key=lambda kv:kv[1]):\n",
    "#     print (\"|{0:{length}}|{0:{length}}|\".format(\"-\", length=length-3, align=\"left\"))\n",
    "    print (\"| {0:<{length}} | {1:<{length}} |\".format(cut, gain, length=length))"
   ]
  },
  {
   "cell_type": "code",
   "execution_count": 16,
   "metadata": {},
   "outputs": [],
   "source": [
    "# # Make a classifier and fit it on the training set, feeding in event weights as well\n",
    "# bdt = GradientBoostingClassifier(n_estimators=200,max_depth=4,min_samples_split=2,learning_rate=0.07,verbose=True)\n",
    "# bdt.fit(x_train, y_train, sample_weight=weights_train)\n",
    "\n",
    "# # Variable importance after training\n",
    "# print(\"Variable ranking\")\n",
    "# print(\"-\"*15)"
   ]
  },
  {
   "cell_type": "code",
   "execution_count": null,
   "metadata": {},
   "outputs": [],
   "source": []
  }
 ],
 "metadata": {
  "kernelspec": {
   "display_name": "Python 2",
   "language": "python",
   "name": "python2"
  },
  "language_info": {
   "codemirror_mode": {
    "name": "ipython",
    "version": 2
   },
   "file_extension": ".py",
   "mimetype": "text/x-python",
   "name": "python",
   "nbconvert_exporter": "python",
   "pygments_lexer": "ipython2",
   "version": "2.7.14+"
  }
 },
 "nbformat": 4,
 "nbformat_minor": 2
}
