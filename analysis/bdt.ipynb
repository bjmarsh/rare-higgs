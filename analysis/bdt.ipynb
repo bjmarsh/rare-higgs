{
 "cells": [
  {
   "cell_type": "markdown",
   "metadata": {},
   "source": [
    "# Boosted Decision Tree (BDT) for $H \\rightarrow (\\rho:\\phi)+\\gamma$ Analysis"
   ]
  },
  {
   "cell_type": "code",
   "execution_count": 19,
   "metadata": {},
   "outputs": [],
   "source": [
    "# General\n",
    "import os, sys\n",
    "# Handling ROOT files\n",
    "import numpy as np\n",
    "import uproot\n",
    "import pandas as pd\n",
    "# Plotting\n",
    "import matplotlib\n",
    "from matplottery import Hist1D, Hist2D, plot_stack\n",
    "import matplotlib.pyplot as plt\n",
    "# Machine Learning\n",
    "from sklearn.ensemble import GradientBoostingClassifier\n",
    "from sklearn.model_selection import train_test_split\n",
    "from sklearn.metrics import roc_curve\n",
    "import xgboost as xgb #BDT\n",
    "import ast\n",
    "import json\n",
    "# Custom Tools\n",
    "from data import GetData, WriteJSON\n",
    "# Jupyter Display Settings\n",
    "%matplotlib inline\n",
    "pd.set_option('display.max_rows', 20)"
   ]
  },
  {
   "cell_type": "markdown",
   "metadata": {},
   "source": [
    "## Global Variables"
   ]
  },
  {
   "cell_type": "code",
   "execution_count": 2,
   "metadata": {},
   "outputs": [],
   "source": [
    "# Manualy set signal name\n",
    "signal = \"WH_HtoRhoGammaPhiGamma\""
   ]
  },
  {
   "cell_type": "markdown",
   "metadata": {},
   "source": [
    "## Get Data"
   ]
  },
  {
   "cell_type": "code",
   "execution_count": 3,
   "metadata": {},
   "outputs": [
    {
     "name": "stdout",
     "output_type": "stream",
     "text": [
      "Loaded Dataframes:\n",
      "    TTJets_SingleLeptFromT\n",
      "    TTGamma_SingleLeptFromTbar\n",
      "    WGToLNuG\n",
      "    TTJets_SingleLeptFromTbar\n",
      "    WJetsToLNu\n",
      "    WH_HtoRhoGammaPhiGamma\n",
      "    TTGamma_SingleLeptFromT\n"
     ]
    }
   ],
   "source": [
    "# Get dataframes\n",
    "dataframes = GetData(\"outputs\", verbose=True)"
   ]
  },
  {
   "cell_type": "code",
   "execution_count": 4,
   "metadata": {},
   "outputs": [
    {
     "name": "stdout",
     "output_type": "stream",
     "text": [
      "Sample Names:\n",
      "WH_HtoRhoGammaPhiGamma, TTJets_SingleLeptFromT, TTGamma_SingleLeptFromTbar, WGToLNuG, TTJets_SingleLeptFromTbar, WJetsToLNu, TTGamma_SingleLeptFromT\n"
     ]
    }
   ],
   "source": [
    "# Get list of sample names\n",
    "samples = dataframes.keys()\n",
    "# Move signal name to front\n",
    "samples.insert(0, samples.pop(samples.index(signal)))\n",
    "# Print sample names\n",
    "print(\"Sample Names:\\n\"+\", \".join(samples))"
   ]
  },
  {
   "cell_type": "code",
   "execution_count": 5,
   "metadata": {},
   "outputs": [
    {
     "name": "stdout",
     "output_type": "stream",
     "text": [
      "Branch Names:\n",
      "run, lumi, event, scale1fb, genRecoGamma_dR, genRecoPhi_dR, genRecoRho_dR, genW_pt, genW_eta, genW_phi, genW_mass, genWLepton_id, genWLepton_pt, genWLepton_eta, genWLepton_phi, genHiggs_pt, genHiggs_eta, genHiggs_phi, genHiggs_mass, genHiggsMeson_id, genHiggsMeson_pt, genHiggsMeson_eta, genHiggsMeson_phi, genHiggsMeson_mass, genHiggsMesonGamma_dR, genKm_pt, genKm_phi, genKm_eta, genKp_pt, genKp_phi, genKp_eta, genKpKm_dR, genGamma_pt, genGamma_phi, genGamma_eta, recoHiggs_mass, recoMeson_nCands, recoPhi_mass, recoPhi_pt, recoPhi_eta, recoPhi_phi, recoPhi_iso, recoKm_pt, recoKm_eta, recoKm_phi, recoKm_iso, recoKp_pt, recoKp_eta, recoKp_phi, recoKp_iso, recoKpKm_dR, recoRho_mass, recoRho_pt, recoRho_eta, recoRho_phi, recoRho_iso, recoPim_pt, recoPim_eta, recoPim_phi, recoPim_iso, recoPip_pt, recoPip_eta, recoPip_phi, recoPip_iso, recoPipPim_dR, recoGamma_pt, recoGamma_phi, recoGamma_eta, recoGamma_iso, genRecoGamma_isMatch, minGammaParton_dR, recoWLepton_id, recoWLepton_pt, recoWLepton_eta, recoWLepton_phi, recoWLepton_nLep\n"
     ]
    }
   ],
   "source": [
    "# Get list of branch names\n",
    "branches = dataframes[signal].keys()\n",
    "# Print branch names\n",
    "print(\"Branch Names:\\n\"+\", \".join(branches))"
   ]
  },
  {
   "cell_type": "markdown",
   "metadata": {},
   "source": [
    "## Modify Dataframes"
   ]
  },
  {
   "cell_type": "code",
   "execution_count": 6,
   "metadata": {},
   "outputs": [],
   "source": [
    "# Add bookkeeping columns, delete bad rows\n",
    "for name, df in dataframes.iteritems():\n",
    "    # Add signal bool and dataset name columns\n",
    "    df[\"stype\"] = samples.index(name)\n",
    "    df[\"signal\"] = (df[\"stype\"] == 0)\n",
    "    # Avoid double-counting prompt photons\n",
    "    genGammaMatch = ( df.genRecoGamma_isMatch == 1 )\n",
    "    minGammaParton = ( df.minGammaParton_dR > 0.4 )\n",
    "    if name in [\"WGToLNuG\", \"TTGamma_SingleLeptFromT\", \"TTGamma_SingleLeptFromTbar\"]:\n",
    "        df = df.drop(df.query(\"not @genGammaMatch or not @minGammaParton\").index)\n",
    "    elif name in [\"WJetsToLNu\", \"TTJets_SingleLeptFromT\", \"TTJets_SingleLeptFromTbar\"]:\n",
    "        df = df.drop(df.query(\"@genGammaMatch and @minGammaParton\").index)"
   ]
  },
  {
   "cell_type": "code",
   "execution_count": 7,
   "metadata": {},
   "outputs": [],
   "source": [
    "# Concatenate dataframes\n",
    "data = pd.concat(dataframes.values())\n",
    "        \n",
    "# Get bookkeeping columns to exclude in training\n",
    "excludes = [\"signal\", \"stype\", \"run\", \"lumi\", \"event\", \"scale1fb\",\n",
    "           \"recoMeson_nCands\", \"recoWLepton_nLep\", \"minGammaParton_dR\"]\n",
    "for bname in branches:\n",
    "    if \"gen\" in bname: excludes.append(bname)\n",
    "    elif \"_mass\" in bname: excludes.append(bname)\n",
    "\n",
    "# Collect selected features\n",
    "features = sorted(list(set(df.columns.values)-set(excludes)))"
   ]
  },
  {
   "cell_type": "code",
   "execution_count": 8,
   "metadata": {},
   "outputs": [
    {
     "name": "stdout",
     "output_type": "stream",
     "text": [
      "Selected Feature Names:\n",
      "recoGamma_eta, recoGamma_iso, recoGamma_phi, recoGamma_pt, recoKm_eta, recoKm_iso, recoKm_phi, recoKm_pt, recoKpKm_dR, recoKp_eta, recoKp_iso, recoKp_phi, recoKp_pt, recoPhi_eta, recoPhi_iso, recoPhi_phi, recoPhi_pt, recoPim_eta, recoPim_iso, recoPim_phi, recoPim_pt, recoPipPim_dR, recoPip_eta, recoPip_iso, recoPip_phi, recoPip_pt, recoRho_eta, recoRho_iso, recoRho_phi, recoRho_pt, recoWLepton_eta, recoWLepton_id, recoWLepton_phi, recoWLepton_pt\n",
      "\n",
      "Excluded Feature Names:\n",
      "signal, stype, run, lumi, event, scale1fb, recoMeson_nCands, recoWLepton_nLep, minGammaParton_dR, genRecoGamma_dR, genRecoPhi_dR, genRecoRho_dR, genW_pt, genW_eta, genW_phi, genW_mass, genWLepton_id, genWLepton_pt, genWLepton_eta, genWLepton_phi, genHiggs_pt, genHiggs_eta, genHiggs_phi, genHiggs_mass, genHiggsMeson_id, genHiggsMeson_pt, genHiggsMeson_eta, genHiggsMeson_phi, genHiggsMeson_mass, genHiggsMesonGamma_dR, genKm_pt, genKm_phi, genKm_eta, genKp_pt, genKp_phi, genKp_eta, genKpKm_dR, genGamma_pt, genGamma_phi, genGamma_eta, recoHiggs_mass, recoPhi_mass, recoRho_mass, genRecoGamma_isMatch\n"
     ]
    }
   ],
   "source": [
    "# Display selected features\n",
    "print(\"Selected Feature Names:\\n\"+\", \".join(features)+\"\\n\")\n",
    "# Display excluded features\n",
    "print(\"Excluded Feature Names:\\n\"+\", \".join(excludes))"
   ]
  },
  {
   "cell_type": "code",
   "execution_count": 9,
   "metadata": {},
   "outputs": [],
   "source": [
    "# Weigh *_pt columns by reco Higgs mass\n",
    "for col in data.columns:\n",
    "    if \"_pt\" in col and col not in excludes:\n",
    "        data[col] = np.where(data[col] != -999, data[col], data[col]/data[\"recoHiggs_mass\"])"
   ]
  },
  {
   "cell_type": "code",
   "execution_count": 10,
   "metadata": {},
   "outputs": [],
   "source": [
    "# Split dataframe for training and testing\n",
    "dummyWeights = np.ones(len(data[\"signal\"])) # in place of data[\"weights\"]\n",
    "x_train, x_test, y_train, y_test, stype_train, stype_test, weights_train, weights_test = train_test_split(\n",
    "                data[features],\n",
    "                data[\"signal\"],\n",
    "                data[\"stype\"],\n",
    "                dummyWeights,\n",
    "                test_size=0.25, random_state=42,\n",
    "                )"
   ]
  },
  {
   "cell_type": "markdown",
   "metadata": {},
   "source": [
    "## Train BDT"
   ]
  },
  {
   "cell_type": "code",
   "execution_count": 11,
   "metadata": {},
   "outputs": [],
   "source": [
    "dump_name = \"rpg.h\"\n",
    "\n",
    "# Sample selection (stype == 0 <--> signal)\n",
    "sel_test = ( (stype_test == 0) | (stype_test == samples.index(\"WJetsToLNu\")) )\n",
    "sel_train = ( (stype_train == 0) | (stype_train == samples.index(\"WJetsToLNu\")) )\n",
    "\n",
    "# BDT Input\n",
    "dtrain = xgb.DMatrix( x_train[sel_train], label=y_train[sel_train], weight=np.abs(weights_train[sel_train]))\n",
    "dtest = xgb.DMatrix( x_test[sel_test], label=y_test[sel_test], weight=np.abs(weights_test[sel_test]))\n",
    "evallist  = [(dtrain,'train'), (dtest,'eval')]\n",
    "\n",
    "# BDT Parameters Setup\n",
    "param = {}\n",
    "param['objective'] = 'binary:logistic'\n",
    "\n",
    "# BDT Knobs (Parameters)\n",
    "num_round = 100                 # Number of training rounds\n",
    "param['eta'] = 0.15             # Step size shrinkage (alias: learning_rate)\n",
    "param['max_depth'] = 4          # Max. depth of tree: larger = more complex = more prone to overfitting\n",
    "param['verbosity'] = 1          # 0 (silent), 1 (warning), 2 (info), 3 (debug)\n",
    "param['nthread'] = 4            # Number of parallel threads\n",
    "param['eval_metric'] = \"auc\"    # Evaluation metrics for validation data. 'auc' = Area Under the Curve\n",
    "param['subsample'] = 0.6        # Subsample ratio of the training instances\n",
    "param['alpha'] = 8.0            # L1 regularization term on weights: Larger = more conservative\n",
    "param['gamma'] = 2.0            # Min. loss rediction to make leaf (alias: min_split_loss)\n",
    "param['lambda'] = 1.0           # L2 regularization term on weights: Larger = more conservative\n",
    "param['min_child_weight'] = 1.0 # Minimum sum of instance weight (hessian) needed in a child\n",
    "param['colsample_bytree'] = 1.0 # The subsample ratio of columns when constructing each tree"
   ]
  },
  {
   "cell_type": "code",
   "execution_count": 12,
   "metadata": {},
   "outputs": [],
   "source": [
    "# Get pos/neg weights\n",
    "sumw_pos = np.abs(dtrain.get_weight()[dtrain.get_label()==1]).sum()\n",
    "sumw_neg = np.abs(dtrain.get_weight()[dtrain.get_label()==0]).sum()\n",
    "param[\"scale_pos_weight\"] = sumw_neg/sumw_pos"
   ]
  },
  {
   "cell_type": "code",
   "execution_count": 13,
   "metadata": {},
   "outputs": [
    {
     "name": "stdout",
     "output_type": "stream",
     "text": [
      "[0]\ttrain-auc:0.946982\teval-auc:0.946031\n",
      "Multiple eval metrics have been passed: 'eval-auc' will be used for early stopping.\n",
      "\n",
      "Will train until eval-auc hasn't improved in 15 rounds.\n",
      "[1]\ttrain-auc:0.9519\teval-auc:0.951247\n",
      "[2]\ttrain-auc:0.956443\teval-auc:0.955628\n",
      "[3]\ttrain-auc:0.958468\teval-auc:0.957877\n",
      "[4]\ttrain-auc:0.959626\teval-auc:0.959017\n",
      "[5]\ttrain-auc:0.960975\teval-auc:0.96041\n",
      "[6]\ttrain-auc:0.961867\teval-auc:0.961168\n",
      "[7]\ttrain-auc:0.963149\teval-auc:0.962407\n",
      "[8]\ttrain-auc:0.963668\teval-auc:0.962949\n",
      "[9]\ttrain-auc:0.964199\teval-auc:0.963483\n",
      "[10]\ttrain-auc:0.964672\teval-auc:0.963962\n",
      "[11]\ttrain-auc:0.965212\teval-auc:0.96444\n",
      "[12]\ttrain-auc:0.965392\teval-auc:0.964631\n",
      "[13]\ttrain-auc:0.965699\teval-auc:0.964865\n",
      "[14]\ttrain-auc:0.966202\teval-auc:0.965406\n",
      "[15]\ttrain-auc:0.966411\teval-auc:0.965652\n",
      "[16]\ttrain-auc:0.966682\teval-auc:0.965873\n",
      "[17]\ttrain-auc:0.966912\teval-auc:0.966068\n",
      "[18]\ttrain-auc:0.967167\teval-auc:0.966333\n",
      "[19]\ttrain-auc:0.967309\teval-auc:0.966418\n",
      "[20]\ttrain-auc:0.967457\teval-auc:0.966547\n",
      "[21]\ttrain-auc:0.967642\teval-auc:0.966718\n",
      "[22]\ttrain-auc:0.967781\teval-auc:0.966884\n",
      "[23]\ttrain-auc:0.967919\teval-auc:0.967015\n",
      "[24]\ttrain-auc:0.968122\teval-auc:0.96722\n",
      "[25]\ttrain-auc:0.968289\teval-auc:0.967384\n",
      "[26]\ttrain-auc:0.968432\teval-auc:0.967543\n",
      "[27]\ttrain-auc:0.968552\teval-auc:0.96764\n",
      "[28]\ttrain-auc:0.968672\teval-auc:0.96775\n",
      "[29]\ttrain-auc:0.968867\teval-auc:0.967974\n",
      "[30]\ttrain-auc:0.968991\teval-auc:0.968104\n",
      "[31]\ttrain-auc:0.969076\teval-auc:0.968194\n",
      "[32]\ttrain-auc:0.969165\teval-auc:0.968283\n",
      "[33]\ttrain-auc:0.969248\teval-auc:0.968373\n",
      "[34]\ttrain-auc:0.969332\teval-auc:0.968461\n",
      "[35]\ttrain-auc:0.969425\teval-auc:0.968549\n",
      "[36]\ttrain-auc:0.969504\teval-auc:0.968628\n",
      "[37]\ttrain-auc:0.969586\teval-auc:0.968709\n",
      "[38]\ttrain-auc:0.969642\teval-auc:0.96877\n",
      "[39]\ttrain-auc:0.96977\teval-auc:0.968882\n",
      "[40]\ttrain-auc:0.96982\teval-auc:0.968924\n",
      "[41]\ttrain-auc:0.969839\teval-auc:0.968929\n",
      "[42]\ttrain-auc:0.969896\teval-auc:0.968986\n",
      "[43]\ttrain-auc:0.96992\teval-auc:0.969008\n",
      "[44]\ttrain-auc:0.969984\teval-auc:0.969065\n",
      "[45]\ttrain-auc:0.970126\teval-auc:0.969208\n",
      "[46]\ttrain-auc:0.97017\teval-auc:0.969249\n",
      "[47]\ttrain-auc:0.970305\teval-auc:0.969371\n",
      "[48]\ttrain-auc:0.970338\teval-auc:0.969401\n",
      "[49]\ttrain-auc:0.97043\teval-auc:0.969492\n",
      "[50]\ttrain-auc:0.970461\teval-auc:0.969517\n",
      "[51]\ttrain-auc:0.970493\teval-auc:0.969543\n",
      "[52]\ttrain-auc:0.970524\teval-auc:0.969571\n",
      "[53]\ttrain-auc:0.97056\teval-auc:0.969609\n",
      "[54]\ttrain-auc:0.970605\teval-auc:0.969647\n",
      "[55]\ttrain-auc:0.970661\teval-auc:0.969703\n",
      "[56]\ttrain-auc:0.970694\teval-auc:0.96973\n",
      "[57]\ttrain-auc:0.970735\teval-auc:0.969767\n",
      "[58]\ttrain-auc:0.970886\teval-auc:0.969923\n",
      "[59]\ttrain-auc:0.970917\teval-auc:0.969957\n",
      "[60]\ttrain-auc:0.970944\teval-auc:0.969975\n",
      "[61]\ttrain-auc:0.970999\teval-auc:0.970027\n",
      "[62]\ttrain-auc:0.971022\teval-auc:0.970047\n",
      "[63]\ttrain-auc:0.971038\teval-auc:0.970058\n",
      "[64]\ttrain-auc:0.971046\teval-auc:0.970062\n",
      "[65]\ttrain-auc:0.971072\teval-auc:0.970086\n",
      "[66]\ttrain-auc:0.971114\teval-auc:0.97012\n",
      "[67]\ttrain-auc:0.971225\teval-auc:0.970214\n",
      "[68]\ttrain-auc:0.971244\teval-auc:0.970224\n",
      "[69]\ttrain-auc:0.971257\teval-auc:0.970233\n",
      "[70]\ttrain-auc:0.971276\teval-auc:0.970252\n",
      "[71]\ttrain-auc:0.971382\teval-auc:0.970343\n",
      "[72]\ttrain-auc:0.971466\teval-auc:0.970419\n",
      "[73]\ttrain-auc:0.971598\teval-auc:0.970543\n",
      "[74]\ttrain-auc:0.971608\teval-auc:0.970555\n",
      "[75]\ttrain-auc:0.971662\teval-auc:0.970596\n",
      "[76]\ttrain-auc:0.971671\teval-auc:0.970599\n",
      "[77]\ttrain-auc:0.971763\teval-auc:0.970678\n",
      "[78]\ttrain-auc:0.97178\teval-auc:0.970693\n",
      "[79]\ttrain-auc:0.971863\teval-auc:0.970768\n",
      "[80]\ttrain-auc:0.971911\teval-auc:0.970819\n",
      "[81]\ttrain-auc:0.971928\teval-auc:0.970829\n",
      "[82]\ttrain-auc:0.971986\teval-auc:0.970884\n",
      "[83]\ttrain-auc:0.971998\teval-auc:0.970899\n",
      "[84]\ttrain-auc:0.972033\teval-auc:0.970929\n",
      "[85]\ttrain-auc:0.972082\teval-auc:0.970971\n",
      "[86]\ttrain-auc:0.972093\teval-auc:0.970978\n",
      "[87]\ttrain-auc:0.972118\teval-auc:0.970997\n",
      "[88]\ttrain-auc:0.972126\teval-auc:0.971001\n",
      "[89]\ttrain-auc:0.972165\teval-auc:0.971037\n",
      "[90]\ttrain-auc:0.972224\teval-auc:0.971088\n",
      "[91]\ttrain-auc:0.972229\teval-auc:0.971092\n",
      "[92]\ttrain-auc:0.972243\teval-auc:0.971105\n",
      "[93]\ttrain-auc:0.972262\teval-auc:0.971112\n",
      "[94]\ttrain-auc:0.97228\teval-auc:0.97112\n",
      "[95]\ttrain-auc:0.972304\teval-auc:0.971135\n",
      "[96]\ttrain-auc:0.97233\teval-auc:0.971156\n",
      "[97]\ttrain-auc:0.972358\teval-auc:0.971178\n",
      "[98]\ttrain-auc:0.972398\teval-auc:0.971218\n",
      "[99]\ttrain-auc:0.972404\teval-auc:0.971222\n"
     ]
    }
   ],
   "source": [
    "# Train\n",
    "bst = xgb.train( param.items(), dtrain, num_round, evallist, early_stopping_rounds=15 )"
   ]
  },
  {
   "cell_type": "code",
   "execution_count": 14,
   "metadata": {},
   "outputs": [],
   "source": [
    "# Get predictions\n",
    "preds_train = bst.predict(xgb.DMatrix(x_train))\n",
    "preds_test = bst.predict(xgb.DMatrix(x_test))"
   ]
  },
  {
   "cell_type": "markdown",
   "metadata": {},
   "source": [
    "## Evaluate Performance"
   ]
  },
  {
   "cell_type": "code",
   "execution_count": 15,
   "metadata": {},
   "outputs": [
    {
     "data": {
      "image/png": "[encoded data removed]",
      "text/plain": [
       "<Figure size 1152x432 with 2 Axes>"
      ]
     },
     "metadata": {},
     "output_type": "display_data"
    }
   ],
   "source": [
    "# Suplots setup\n",
    "fig, axes = plt.subplots(1,2,figsize=(16,6))\n",
    "\n",
    "# Subplot 1: Plot ROC curves\n",
    "plt.subplot(1, 2, 1)\n",
    "# Test ROC Curve\n",
    "fpr, tpr, thresh = roc_curve(y_test,preds_test)\n",
    "plt.plot(fpr, tpr, label=\"test set (AUC = {:.2f})\".format(np.trapz(tpr,fpr)));\n",
    "# Train ROC Curve\n",
    "fpr, tpr, thresh = roc_curve(y_train,preds_train)\n",
    "plt.plot(fpr, tpr, label=\"train set (AUC = {:.2f})\".format(np.trapz(tpr,fpr)));\n",
    "# Settings\n",
    "plt.xlabel(\"background efficiency\");\n",
    "plt.ylabel(\"signal efficiency\");\n",
    "plt.legend();\n",
    "\n",
    "# Subplot 2: Plot distribution of BDT outputs\n",
    "plt.subplot(1, 2, 2)\n",
    "bins = np.linspace(0.,1.,30)\n",
    "# Training - Background\n",
    "plt.hist(preds_train[y_train==0], weights=weights_train[y_train==0], bins=bins,histtype=\"stepfilled\",alpha=0.45, density=True, label=\"bkg, train\",color=\"C0\");\n",
    "# Training - Signal\n",
    "plt.hist(preds_train[y_train==1], weights=weights_train[y_train==1], bins=bins,histtype=\"stepfilled\",alpha=0.45, density=True, label=\"sig, train\",color=\"C3\");\n",
    "# Testing - Background\n",
    "plt.hist(preds_test[y_test==0], weights=weights_test[y_test==0], bins=bins,histtype=\"step\",alpha=1.0, density=True, label=\"bkg, test\",color=\"C0\", lw=1.5, linestyle=\"solid\");\n",
    "# Testing - Signal\n",
    "plt.hist(preds_test[y_test==1], weights=weights_test[y_test==1], bins=bins,histtype=\"step\",alpha=1.0, density=True, label=\"sig, test\",color=\"C3\", lw=1.5, linestyle=\"solid\");\n",
    "# Settings\n",
    "plt.xlabel(\"bdt output\");"
   ]
  },
  {
   "cell_type": "code",
   "execution_count": 16,
   "metadata": {
    "scrolled": true
   },
   "outputs": [
    {
     "name": "stdout",
     "output_type": "stream",
     "text": [
      "| Cut             | Gain            |\n",
      "| --------------- | --------------- | \n",
      "| recoPim_phi     | 5.14494844167   |\n",
      "| --------------- | --------------- | \n",
      "| recoGamma_iso   | 5.24947739      |\n",
      "| --------------- | --------------- | \n",
      "| recoGamma_phi   | 5.865403077     |\n",
      "| --------------- | --------------- | \n",
      "| recoKp_phi      | 5.949186062     |\n",
      "| --------------- | --------------- | \n",
      "| recoPip_phi     | 6.0265746125    |\n",
      "| --------------- | --------------- | \n",
      "| recoKm_phi      | 6.09154017833   |\n",
      "| --------------- | --------------- | \n",
      "| recoPhi_phi     | 8.09208051667   |\n",
      "| --------------- | --------------- | \n",
      "| recoRho_phi     | 8.20853827      |\n",
      "| --------------- | --------------- | \n",
      "| recoWLepton_id  | 10.6452531721   |\n",
      "| --------------- | --------------- | \n",
      "| recoRho_eta     | 13.4768987553   |\n",
      "| --------------- | --------------- | \n",
      "| recoPim_pt      | 14.9765153926   |\n",
      "| --------------- | --------------- | \n",
      "| recoPip_eta     | 18.9904029477   |\n",
      "| --------------- | --------------- | \n",
      "| recoPip_pt      | 20.0409420925   |\n",
      "| --------------- | --------------- | \n",
      "| recoPhi_eta     | 21.5038474927   |\n",
      "| --------------- | --------------- | \n",
      "| recoKm_eta      | 21.8406886287   |\n",
      "| --------------- | --------------- | \n",
      "| recoKp_eta      | 25.1243256284   |\n",
      "| --------------- | --------------- | \n",
      "| recoPim_eta     | 28.2763408365   |\n",
      "| --------------- | --------------- | \n",
      "| recoKp_pt       | 28.8792723742   |\n",
      "| --------------- | --------------- | \n",
      "| recoWLepton_eta | 29.999659278    |\n",
      "| --------------- | --------------- | \n",
      "| recoKm_pt       | 33.9729000312   |\n",
      "| --------------- | --------------- | \n",
      "| recoKp_iso      | 36.2013003703   |\n",
      "| --------------- | --------------- | \n",
      "| recoKm_iso      | 54.5879143453   |\n",
      "| --------------- | --------------- | \n",
      "| recoWLepton_phi | 85.7324466646   |\n",
      "| --------------- | --------------- | \n",
      "| recoPip_iso     | 93.9198211019   |\n",
      "| --------------- | --------------- | \n",
      "| recoPim_iso     | 93.9290700139   |\n",
      "| --------------- | --------------- | \n",
      "| recoKpKm_dR     | 143.836594448   |\n",
      "| --------------- | --------------- | \n",
      "| recoWLepton_pt  | 157.911647004   |\n",
      "| --------------- | --------------- | \n",
      "| recoPipPim_dR   | 307.057515205   |\n",
      "| --------------- | --------------- | \n",
      "| recoPhi_pt      | 311.444294392   |\n",
      "| --------------- | --------------- | \n",
      "| recoRho_pt      | 584.228601452   |\n",
      "| --------------- | --------------- | \n",
      "| recoRho_iso     | 586.429614333   |\n",
      "| --------------- | --------------- | \n",
      "| recoPhi_iso     | 886.975922164   |\n",
      "| --------------- | --------------- | \n",
      "| recoGamma_pt    | 2013.71506751   |\n",
      "| --------------- | --------------- | \n",
      "| recoGamma_eta   | 4089.44320899   |\n"
     ]
    }
   ],
   "source": [
    "# Get cut scores\n",
    "scores = bst.get_score(importance_type='gain')\n",
    "# Print as table\n",
    "length = 0\n",
    "for key, val in scores.iteritems():\n",
    "    val = str(val)\n",
    "    if len(key) > length:\n",
    "        length = len(key)\n",
    "    if len(val) > length:\n",
    "        length = len(val)\n",
    "print (\"| Cut{0:{length}} | Gain{0:<{length}}|\".format(\"\", length=length-3))\n",
    "for cut, gain in sorted(scores.items(), key=lambda kv:kv[1]):\n",
    "    toPrint = \"| {0:<{length}} | {1:<{length}} |\".format(cut, gain, length=length)\n",
    "    print(\"| \"+\"-\"*length+\" | \"+\"-\"*length+\" | \")\n",
    "    print(toPrint)"
   ]
  },
  {
   "cell_type": "markdown",
   "metadata": {},
   "source": [
    "## Save BDT"
   ]
  },
  {
   "cell_type": "code",
   "execution_count": 17,
   "metadata": {},
   "outputs": [],
   "source": [
    "WriteJSON(\"bdt.json\", bst, features)"
   ]
  }
 ],
 "metadata": {
  "kernelspec": {
   "display_name": "Python 2",
   "language": "python",
   "name": "python2"
  },
  "language_info": {
   "codemirror_mode": {
    "name": "ipython",
    "version": 2
   },
   "file_extension": ".py",
   "mimetype": "text/x-python",
   "name": "python",
   "nbconvert_exporter": "python",
   "pygments_lexer": "ipython2",
   "version": "2.7.14+"
  }
 },
 "nbformat": 4,
 "nbformat_minor": 2
}
