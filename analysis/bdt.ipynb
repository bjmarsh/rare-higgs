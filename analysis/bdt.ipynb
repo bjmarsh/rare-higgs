{
 "cells": [
  {
   "cell_type": "markdown",
   "metadata": {},
   "source": [
    "# Boosted Decision Tree (BDT) for $H \\rightarrow \\rho\\gamma, \\phi\\gamma$ Analysis"
   ]
  },
  {
   "cell_type": "code",
   "execution_count": 26,
   "metadata": {},
   "outputs": [],
   "source": [
    "# General\n",
    "import os, sys\n",
    "# Handling ROOT files\n",
    "import numpy as np, pandas as pd\n",
    "import uproot, pickle\n",
    "# Plotting\n",
    "import matplotlib\n",
    "from matplottery import Hist1D, Hist2D, plot_stack\n",
    "import matplotlib.pyplot as plt\n",
    "# Machine Learning\n",
    "from sklearn.ensemble import GradientBoostingClassifier\n",
    "from sklearn.model_selection import train_test_split\n",
    "from sklearn.metrics import roc_curve\n",
    "import xgboost as xgb #BDT\n",
    "# Custom Tools\n",
    "from data import GetData, WriteJSON, JSONtoC\n",
    "# Jupyter Display Settings\n",
    "%matplotlib inline\n",
    "pd.set_option('display.max_rows', 20)"
   ]
  },
  {
   "cell_type": "markdown",
   "metadata": {},
   "source": [
    "## Global Variables"
   ]
  },
  {
   "cell_type": "code",
   "execution_count": 27,
   "metadata": {},
   "outputs": [],
   "source": [
    "# Manualy set signal name\n",
    "signal = \"WH_HtoRhoGammaPhiGamma\""
   ]
  },
  {
   "cell_type": "markdown",
   "metadata": {},
   "source": [
    "## Get Data"
   ]
  },
  {
   "cell_type": "code",
   "execution_count": 28,
   "metadata": {},
   "outputs": [
    {
     "name": "stdout",
     "output_type": "stream",
     "text": [
      "Loaded Dataframes:\n",
      "    TTJets_SingleLeptFromT\n",
      "    TTGamma_SingleLeptFromTbar\n",
      "    WGToLNuG\n",
      "    TTJets_SingleLeptFromTbar\n",
      "    WJetsToLNu\n",
      "    WH_HtoRhoGammaPhiGamma\n",
      "    TTGamma_SingleLeptFromT\n"
     ]
    }
   ],
   "source": [
    "# Get dataframes\n",
    "dataframes = GetData(\"outputs\", verbose=True)"
   ]
  },
  {
   "cell_type": "code",
   "execution_count": 29,
   "metadata": {},
   "outputs": [
    {
     "name": "stdout",
     "output_type": "stream",
     "text": [
      "Sample Names:\n",
      "WH_HtoRhoGammaPhiGamma, TTJets_SingleLeptFromT, TTGamma_SingleLeptFromTbar, WGToLNuG, TTJets_SingleLeptFromTbar, WJetsToLNu, TTGamma_SingleLeptFromT\n"
     ]
    }
   ],
   "source": [
    "# Get list of sample names\n",
    "samples = dataframes.keys()\n",
    "# Move signal name to front\n",
    "samples.insert(0, samples.pop(samples.index(signal)))\n",
    "# Print sample names\n",
    "print(\"Sample Names:\\n\"+\", \".join(samples))"
   ]
  },
  {
   "cell_type": "code",
   "execution_count": 30,
   "metadata": {},
   "outputs": [
    {
     "name": "stdout",
     "output_type": "stream",
     "text": [
      "Branch Names:\n",
      "run, lumi, event, scale1fb, genRecoGamma_dR, genRecoPhi_dR, genRecoRho_dR, genW_pt, genW_eta, genW_phi, genW_mass, genWLepton_id, genWLepton_pt, genWLepton_eta, genWLepton_phi, genHiggs_pt, genHiggs_eta, genHiggs_phi, genHiggs_mass, genHiggsMeson_id, genHiggsMeson_pt, genHiggsMeson_eta, genHiggsMeson_phi, genHiggsMeson_mass, genHiggsMesonGamma_dR, genKm_pt, genKm_phi, genKm_eta, genKp_pt, genKp_phi, genKp_eta, genKpKm_dR, genGamma_pt, genGamma_phi, genGamma_eta, recoHiggs_mass, recoMeson_nCands, recoPhi_mass, recoPhi_pt, recoPhi_eta, recoPhi_phi, recoPhi_iso, recoKm_pt, recoKm_eta, recoKm_phi, recoKm_iso, recoKp_pt, recoKp_eta, recoKp_phi, recoKp_iso, recoKpKm_dR, recoRho_mass, recoRho_pt, recoRho_eta, recoRho_phi, recoRho_iso, recoPim_pt, recoPim_eta, recoPim_phi, recoPim_iso, recoPip_pt, recoPip_eta, recoPip_phi, recoPip_iso, recoPipPim_dR, recoGamma_pt, recoGamma_phi, recoGamma_eta, recoGamma_iso, genRecoGamma_isMatch, minGammaParton_dR, recoWLepton_id, recoWLepton_pt, recoWLepton_eta, recoWLepton_phi, recoWLepton_nLep\n"
     ]
    }
   ],
   "source": [
    "# Get list of branch names\n",
    "branches = dataframes[signal].keys()\n",
    "# Print branch names\n",
    "print(\"Branch Names:\\n\"+\", \".join(branches))"
   ]
  },
  {
   "cell_type": "markdown",
   "metadata": {},
   "source": [
    "## Modify Dataframes"
   ]
  },
  {
   "cell_type": "code",
   "execution_count": 31,
   "metadata": {},
   "outputs": [],
   "source": [
    "# Add bookkeeping columns, delete bad rows\n",
    "for name, df in dataframes.iteritems():\n",
    "    # Add signal bool and dataset name columns\n",
    "    df[\"stype\"] = samples.index(name)\n",
    "    df[\"signal\"] = (df[\"stype\"] == 0)\n",
    "    # Require found lepton, photon, meson\n",
    "    df = df.drop(df.query(\"recoWLepton_pt < 0 or recoPhi_pt < 0 or recoRho_pt < 0 or recoGamma_pt < 0\").index)\n",
    "    # Avoid double-counting prompt photons\n",
    "    genGammaMatch = ( df.genRecoGamma_isMatch == 1 )\n",
    "    minGammaParton = ( df.minGammaParton_dR > 0.4 )\n",
    "    if name in [\"WGToLNuG\", \"TTGamma_SingleLeptFromT\", \"TTGamma_SingleLeptFromTbar\"]:\n",
    "        df = df.drop(df.query(\"not @genGammaMatch or not @minGammaParton\").index)\n",
    "    elif name in [\"WJetsToLNu\", \"TTJets_SingleLeptFromT\", \"TTJets_SingleLeptFromTbar\"]:\n",
    "        df = df.drop(df.query(\"@genGammaMatch and @minGammaParton\").index)\n",
    "    # Update dataframe in dictionary\n",
    "    dataframes[name] = df"
   ]
  },
  {
   "cell_type": "code",
   "execution_count": 32,
   "metadata": {},
   "outputs": [],
   "source": [
    "# Concatenate dataframes\n",
    "data = pd.concat(dataframes.values())\n",
    "        \n",
    "# Get bookkeeping columns to exclude in training\n",
    "excludes = [\"signal\", \"stype\", \"run\", \"lumi\", \"event\", \"scale1fb\",\n",
    "           \"recoMeson_nCands\", \"recoWLepton_nLep\", \"minGammaParton_dR\"]\n",
    "for bname in branches:\n",
    "    if \"gen\" in bname: excludes.append(bname)\n",
    "    elif \"_mass\" in bname: excludes.append(bname)\n",
    "    elif \"Rho\" in bname: excludes.append(bname)\n",
    "    elif \"Pip\" in bname: excludes.append(bname)\n",
    "    elif \"Pim\" in bname: excludes.append(bname)\n",
    "\n",
    "# Collect selected features\n",
    "features = sorted(list(set(data.columns.values)-set(excludes)))"
   ]
  },
  {
   "cell_type": "code",
   "execution_count": 33,
   "metadata": {},
   "outputs": [
    {
     "name": "stdout",
     "output_type": "stream",
     "text": [
      "21 Selected Features:\n",
      "recoGamma_eta, recoGamma_iso, recoGamma_phi, recoGamma_pt, recoKm_eta, recoKm_iso, recoKm_phi, recoKm_pt, recoKpKm_dR, recoKp_eta, recoKp_iso, recoKp_phi, recoKp_pt, recoPhi_eta, recoPhi_iso, recoPhi_phi, recoPhi_pt, recoWLepton_eta, recoWLepton_id, recoWLepton_phi, recoWLepton_pt\n",
      "\n",
      "57 Excluded Features:\n",
      "signal, stype, run, lumi, event, scale1fb, recoMeson_nCands, recoWLepton_nLep, minGammaParton_dR, genRecoGamma_dR, genRecoPhi_dR, genRecoRho_dR, genW_pt, genW_eta, genW_phi, genW_mass, genWLepton_id, genWLepton_pt, genWLepton_eta, genWLepton_phi, genHiggs_pt, genHiggs_eta, genHiggs_phi, genHiggs_mass, genHiggsMeson_id, genHiggsMeson_pt, genHiggsMeson_eta, genHiggsMeson_phi, genHiggsMeson_mass, genHiggsMesonGamma_dR, genKm_pt, genKm_phi, genKm_eta, genKp_pt, genKp_phi, genKp_eta, genKpKm_dR, genGamma_pt, genGamma_phi, genGamma_eta, recoHiggs_mass, recoPhi_mass, recoRho_mass, recoRho_pt, recoRho_eta, recoRho_phi, recoRho_iso, recoPim_pt, recoPim_eta, recoPim_phi, recoPim_iso, recoPip_pt, recoPip_eta, recoPip_phi, recoPip_iso, recoPipPim_dR, genRecoGamma_isMatch\n",
      "\n"
     ]
    }
   ],
   "source": [
    "# Display selected features\n",
    "print(\"{0} Selected Features:\\n{1}\\n\".format(len(features), \", \".join(features)))\n",
    "# Display excluded features\n",
    "print(\"{0} Excluded Features:\\n{1}\\n\".format(len(excludes), \", \".join(excludes)))"
   ]
  },
  {
   "cell_type": "code",
   "execution_count": 34,
   "metadata": {},
   "outputs": [],
   "source": [
    "# Weigh *_pt columns by reco Higgs mass\n",
    "for col in data.columns:\n",
    "    if \"_pt\" in col and col not in excludes:\n",
    "        data[col] = np.where(data[col] != -999, data[col], data[col]/data[\"recoHiggs_mass\"])"
   ]
  },
  {
   "cell_type": "code",
   "execution_count": 35,
   "metadata": {},
   "outputs": [
    {
     "data": {
      "image/png": "[encoded data removed]",
      "text/plain": [
       "<Figure size 1080x1080 with 25 Axes>"
      ]
     },
     "metadata": {},
     "output_type": "display_data"
    }
   ],
   "source": [
    "# Plot all columns separately for background and signal\n",
    "fig, axes = plt.subplots(5,5,figsize=(15,15))\n",
    "stypeSel = ((data.stype == 0) | (data.stype == samples.index(\"TTGamma_SingleLeptFromTbar\")))\n",
    "isoSel = ((data.recoPhi_iso < 4) & (data.recoGamma_iso < 4) & (data.recoKp_iso < 4) & (data.recoKm_iso < 4))\n",
    "toPlot = data[features+[\"signal\"]][stypeSel & isoSel]\n",
    "ax = toPlot[(toPlot.signal==0)].hist(ax=axes.flatten()[:len(toPlot.keys())],alpha=0.5,color=\"C0\",ylabelsize=0,density=True,layout=(5,5),bins=\"auto\")\n",
    "ax = toPlot[(toPlot.signal==1)].hist(ax=axes.flatten()[:len(toPlot.keys())],alpha=0.5,color=\"C3\",ylabelsize=0,density=True,layout=(5,5),bins=\"auto\")"
   ]
  },
  {
   "cell_type": "code",
   "execution_count": 36,
   "metadata": {},
   "outputs": [],
   "source": [
    "# Split dataframe for training and testing\n",
    "dummyWeights = np.ones(len(data[\"signal\"])) # in place of data[\"weights\"]\n",
    "x_train, x_test, y_train, y_test, stype_train, stype_test, weights_train, weights_test = train_test_split(\n",
    "                data[features],\n",
    "                data[\"signal\"],\n",
    "                data[\"stype\"],\n",
    "                dummyWeights,\n",
    "                test_size=0.25, random_state=42,\n",
    "                )"
   ]
  },
  {
   "cell_type": "markdown",
   "metadata": {},
   "source": [
    "## Train BDT"
   ]
  },
  {
   "cell_type": "code",
   "execution_count": 37,
   "metadata": {},
   "outputs": [],
   "source": [
    "dump_name = \"rpg.h\"\n",
    "\n",
    "# Sample selection (stype == 0 <--> signal)\n",
    "sel_test = ( (stype_test == 0) | (stype_test == samples.index(\"WJetsToLNu\")) )\n",
    "sel_train = ( (stype_train == 0) | (stype_train == samples.index(\"WJetsToLNu\")) )\n",
    "\n",
    "# BDT Input\n",
    "dtrain = xgb.DMatrix( x_train, label=y_train, weight=np.abs(weights_train))\n",
    "dtest = xgb.DMatrix( x_test, label=y_test, weight=np.abs(weights_test))\n",
    "evallist  = [(dtrain,'train'), (dtest,'eval')]\n",
    "\n",
    "# BDT Parameters Setup\n",
    "param = {}\n",
    "param['objective'] = 'binary:logistic'\n",
    "\n",
    "# BDT Knobs (Parameters)\n",
    "num_round = 200                 # Number of training rounds\n",
    "param['eta'] = 0.1              # Step size shrinkage (alias: learning_rate)\n",
    "param['max_depth'] = 4          # Max. depth of tree: larger = more complex = more prone to overfitting\n",
    "param['verbosity'] = 1          # 0 (silent), 1 (warning), 2 (info), 3 (debug)\n",
    "param['nthread'] = 4            # Number of parallel threads\n",
    "param['eval_metric'] = \"auc\"    # Evaluation metrics for validation data. 'auc' = Area Under the Curve\n",
    "param['subsample'] = 0.6        # Subsample ratio of the training instances\n",
    "param['alpha'] = 8.0            # L1 regularization term on weights: Larger = more conservative\n",
    "param['gamma'] = 2.0            # Min. loss rediction to make leaf (alias: min_split_loss)\n",
    "param['lambda'] = 1.0           # L2 regularization term on weights: Larger = more conservative\n",
    "param['min_child_weight'] = 1.0 # Minimum sum of instance weight (hessian) needed in a child\n",
    "param['colsample_bytree'] = 1.0 # The subsample ratio of columns when constructing each tree"
   ]
  },
  {
   "cell_type": "code",
   "execution_count": 38,
   "metadata": {},
   "outputs": [],
   "source": [
    "# Get pos/neg weights\n",
    "sumw_pos = np.abs(dtrain.get_weight()[dtrain.get_label()==1]).sum()\n",
    "sumw_neg = np.abs(dtrain.get_weight()[dtrain.get_label()==0]).sum()\n",
    "param[\"scale_pos_weight\"] = sumw_neg/sumw_pos"
   ]
  },
  {
   "cell_type": "code",
   "execution_count": 39,
   "metadata": {},
   "outputs": [],
   "source": [
    "# Train\n",
    "bst = xgb.train( param.items(), dtrain, num_round, evallist, early_stopping_rounds=15, verbose_eval=False )"
   ]
  },
  {
   "cell_type": "markdown",
   "metadata": {},
   "source": [
    "## Evaluate Performance"
   ]
  },
  {
   "cell_type": "code",
   "execution_count": 40,
   "metadata": {},
   "outputs": [],
   "source": [
    "# Get predictions\n",
    "preds_train = bst.predict(xgb.DMatrix(x_train))\n",
    "preds_test = bst.predict(xgb.DMatrix(x_test))"
   ]
  },
  {
   "cell_type": "code",
   "execution_count": 41,
   "metadata": {
    "tags": [
     "hidecode"
    ]
   },
   "outputs": [
    {
     "data": {
      "image/png": "[encoded data removed]",
      "text/plain": [
       "<Figure size 1152x432 with 2 Axes>"
      ]
     },
     "metadata": {},
     "output_type": "display_data"
    }
   ],
   "source": [
    "# Suplots setup\n",
    "fig, axes = plt.subplots(1,2,figsize=(16,6))\n",
    "\n",
    "# Subplot 1: Plot ROC curves\n",
    "plt.subplot(1, 2, 1)\n",
    "# Test ROC Curve\n",
    "fpr, tpr, thresh = roc_curve(y_test,preds_test)\n",
    "plt.plot(fpr, tpr, label=\"test set (AUC = {:.2f})\".format(np.trapz(tpr,fpr)));\n",
    "# Train ROC Curve\n",
    "fpr, tpr, thresh = roc_curve(y_train,preds_train)\n",
    "plt.plot(fpr, tpr, label=\"train set (AUC = {:.2f})\".format(np.trapz(tpr,fpr)));\n",
    "# Settings\n",
    "plt.xlabel(\"background efficiency\");\n",
    "plt.ylabel(\"signal efficiency\");\n",
    "plt.legend();\n",
    "\n",
    "# Subplot 2: Plot distribution of BDT outputs\n",
    "plt.subplot(1, 2, 2)\n",
    "bins = np.linspace(0.,1.,30)\n",
    "# Training - Background\n",
    "plt.hist(preds_train[y_train==0], weights=weights_train[y_train==0], bins=bins,histtype=\"stepfilled\",alpha=0.45, density=True, label=\"bkg, train\",color=\"C0\");\n",
    "# Training - Signal\n",
    "plt.hist(preds_train[y_train==1], weights=weights_train[y_train==1], bins=bins,histtype=\"stepfilled\",alpha=0.45, density=True, label=\"sig, train\",color=\"C3\");\n",
    "# Testing - Background\n",
    "plt.hist(preds_test[y_test==0], weights=weights_test[y_test==0], bins=bins,histtype=\"step\",alpha=1.0, density=True, label=\"bkg, test\",color=\"C0\", lw=1.5, linestyle=\"solid\");\n",
    "# Testing - Signal\n",
    "plt.hist(preds_test[y_test==1], weights=weights_test[y_test==1], bins=bins,histtype=\"step\",alpha=1.0, density=True, label=\"sig, test\",color=\"C3\", lw=1.5, linestyle=\"solid\");\n",
    "# Settings\n",
    "plt.xlabel(\"bdt output\");"
   ]
  },
  {
   "cell_type": "code",
   "execution_count": 42,
   "metadata": {
    "scrolled": true
   },
   "outputs": [
    {
     "data": {
      "text/html": [
       "<div>\n",
       "<style scoped>\n",
       "    .dataframe tbody tr th:only-of-type {\n",
       "        vertical-align: middle;\n",
       "    }\n",
       "\n",
       "    .dataframe tbody tr th {\n",
       "        vertical-align: top;\n",
       "    }\n",
       "\n",
       "    .dataframe thead th {\n",
       "        text-align: right;\n",
       "    }\n",
       "</style>\n",
       "<table border=\"1\" class=\"dataframe\">\n",
       "  <thead>\n",
       "    <tr style=\"text-align: right;\">\n",
       "      <th></th>\n",
       "      <th>cut</th>\n",
       "      <th>gain</th>\n",
       "      <th>cover</th>\n",
       "      <th>weight</th>\n",
       "    </tr>\n",
       "  </thead>\n",
       "  <tbody>\n",
       "    <tr>\n",
       "      <th>11</th>\n",
       "      <td>recoPhi_iso</td>\n",
       "      <td>465.600647</td>\n",
       "      <td>3821.936452</td>\n",
       "      <td>76</td>\n",
       "    </tr>\n",
       "    <tr>\n",
       "      <th>20</th>\n",
       "      <td>recoKpKm_dR</td>\n",
       "      <td>264.531298</td>\n",
       "      <td>2955.872427</td>\n",
       "      <td>302</td>\n",
       "    </tr>\n",
       "    <tr>\n",
       "      <th>14</th>\n",
       "      <td>recoPhi_pt</td>\n",
       "      <td>108.481148</td>\n",
       "      <td>2003.993957</td>\n",
       "      <td>333</td>\n",
       "    </tr>\n",
       "    <tr>\n",
       "      <th>3</th>\n",
       "      <td>recoGamma_pt</td>\n",
       "      <td>106.985638</td>\n",
       "      <td>2331.786024</td>\n",
       "      <td>444</td>\n",
       "    </tr>\n",
       "    <tr>\n",
       "      <th>19</th>\n",
       "      <td>recoKm_iso</td>\n",
       "      <td>103.883965</td>\n",
       "      <td>3256.932509</td>\n",
       "      <td>64</td>\n",
       "    </tr>\n",
       "  </tbody>\n",
       "</table>\n",
       "</div>"
      ],
      "text/plain": [
       "             cut        gain        cover  weight\n",
       "11   recoPhi_iso  465.600647  3821.936452      76\n",
       "20   recoKpKm_dR  264.531298  2955.872427     302\n",
       "14    recoPhi_pt  108.481148  2003.993957     333\n",
       "3   recoGamma_pt  106.985638  2331.786024     444\n",
       "19    recoKm_iso  103.883965  3256.932509      64"
      ]
     },
     "execution_count": 42,
     "metadata": {},
     "output_type": "execute_result"
    }
   ],
   "source": [
    "# Get cut scores\n",
    "gainScore = pd.DataFrame(bst.get_score(importance_type='gain').items(), columns=['cut', 'gain'])\n",
    "coverScore = pd.DataFrame(bst.get_score(importance_type='cover').items(), columns=['cut', 'cover'])\n",
    "weightScore = pd.DataFrame(bst.get_score(importance_type='weight').items(), columns=['cut', 'weight'])\n",
    "# Merge scores into single dataframe along 'cut' column\n",
    "scores = reduce(lambda left,right: pd.merge(left,right,on='cut'), [gainScore, coverScore, weightScore])\n",
    "# Display top five cuts in 'gain'\n",
    "scores.sort_values('gain', ascending=False)[:5]"
   ]
  },
  {
   "cell_type": "markdown",
   "metadata": {},
   "source": [
    "## Save BDT"
   ]
  },
  {
   "cell_type": "code",
   "execution_count": 44,
   "metadata": {},
   "outputs": [],
   "source": [
    "# Write to JSON\n",
    "WriteJSON(\"bdt.json\", bst, features)\n",
    "# Create C function\n",
    "JSONtoC(\"bdt.json\", \"bdt.h\")\n",
    "# Write to pickle file\n",
    "pickle.dump(bst, open(\"bdt.pkl\", \"w\"))"
   ]
  }
 ],
 "metadata": {
  "kernelspec": {
   "display_name": "Python 2",
   "language": "python",
   "name": "python2"
  },
  "language_info": {
   "codemirror_mode": {
    "name": "ipython",
    "version": 2
   },
   "file_extension": ".py",
   "mimetype": "text/x-python",
   "name": "python",
   "nbconvert_exporter": "python",
   "pygments_lexer": "ipython2",
   "version": "2.7.14+"
  }
 },
 "nbformat": 4,
 "nbformat_minor": 2
}
