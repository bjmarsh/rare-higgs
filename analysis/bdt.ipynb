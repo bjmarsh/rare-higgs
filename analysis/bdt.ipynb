{
 "cells": [
  {
   "cell_type": "markdown",
   "metadata": {},
   "source": [
    "# Boosted Decision Tree (BDT) for $H \\rightarrow \\rho\\gamma, \\phi\\gamma$ Analysis"
   ]
  },
  {
   "cell_type": "code",
   "execution_count": 2,
   "metadata": {},
   "outputs": [],
   "source": [
    "# General\n",
    "import os, sys\n",
    "# Handling ROOT files\n",
    "import numpy as np\n",
    "import uproot\n",
    "import pandas as pd\n",
    "import pickle\n",
    "# Plotting\n",
    "import matplotlib\n",
    "from matplottery import Hist1D, Hist2D, plot_stack\n",
    "import matplotlib.pyplot as plt\n",
    "# Machine Learning\n",
    "from sklearn.ensemble import GradientBoostingClassifier\n",
    "from sklearn.model_selection import train_test_split\n",
    "from sklearn.metrics import roc_curve\n",
    "import xgboost as xgb #BDT\n",
    "import ast\n",
    "import json\n",
    "# Custom Tools\n",
    "from data import GetData, WriteJSON, JSONtoC\n",
    "# Jupyter Display Settings\n",
    "%matplotlib inline\n",
    "pd.set_option('display.max_rows', 20)"
   ]
  },
  {
   "cell_type": "markdown",
   "metadata": {},
   "source": [
    "## Global Variables"
   ]
  },
  {
   "cell_type": "code",
   "execution_count": 2,
   "metadata": {},
   "outputs": [],
   "source": [
    "# Manualy set signal name\n",
    "signal = \"WH_HtoRhoGammaPhiGamma\""
   ]
  },
  {
   "cell_type": "markdown",
   "metadata": {},
   "source": [
    "## Get Data"
   ]
  },
  {
   "cell_type": "code",
   "execution_count": 3,
   "metadata": {},
   "outputs": [
    {
     "name": "stdout",
     "output_type": "stream",
     "text": [
      "Loaded Dataframes:\n",
      "    TTJets_SingleLeptFromT\n",
      "    TTGamma_SingleLeptFromTbar\n",
      "    WGToLNuG\n",
      "    TTJets_SingleLeptFromTbar\n",
      "    WJetsToLNu\n",
      "    WH_HtoRhoGammaPhiGamma\n",
      "    TTGamma_SingleLeptFromT\n"
     ]
    }
   ],
   "source": [
    "# Get dataframes\n",
    "dataframes = GetData(\"outputs\", verbose=True)"
   ]
  },
  {
   "cell_type": "code",
   "execution_count": 4,
   "metadata": {},
   "outputs": [
    {
     "name": "stdout",
     "output_type": "stream",
     "text": [
      "Sample Names:\n",
      "WH_HtoRhoGammaPhiGamma, TTJets_SingleLeptFromT, TTGamma_SingleLeptFromTbar, WGToLNuG, TTJets_SingleLeptFromTbar, WJetsToLNu, TTGamma_SingleLeptFromT\n"
     ]
    }
   ],
   "source": [
    "# Get list of sample names\n",
    "samples = dataframes.keys()\n",
    "# Move signal name to front\n",
    "samples.insert(0, samples.pop(samples.index(signal)))\n",
    "# Print sample names\n",
    "print(\"Sample Names:\\n\"+\", \".join(samples))"
   ]
  },
  {
   "cell_type": "code",
   "execution_count": 5,
   "metadata": {},
   "outputs": [
    {
     "name": "stdout",
     "output_type": "stream",
     "text": [
      "Branch Names:\n",
      "run, lumi, event, scale1fb, genRecoGamma_dR, genRecoPhi_dR, genRecoRho_dR, genW_pt, genW_eta, genW_phi, genW_mass, genWLepton_id, genWLepton_pt, genWLepton_eta, genWLepton_phi, genHiggs_pt, genHiggs_eta, genHiggs_phi, genHiggs_mass, genHiggsMeson_id, genHiggsMeson_pt, genHiggsMeson_eta, genHiggsMeson_phi, genHiggsMeson_mass, genHiggsMesonGamma_dR, genKm_pt, genKm_phi, genKm_eta, genKp_pt, genKp_phi, genKp_eta, genKpKm_dR, genGamma_pt, genGamma_phi, genGamma_eta, recoHiggs_mass, recoMeson_nCands, recoPhi_mass, recoPhi_pt, recoPhi_eta, recoPhi_phi, recoPhi_iso, recoKm_pt, recoKm_eta, recoKm_phi, recoKm_iso, recoKp_pt, recoKp_eta, recoKp_phi, recoKp_iso, recoKpKm_dR, recoRho_mass, recoRho_pt, recoRho_eta, recoRho_phi, recoRho_iso, recoPim_pt, recoPim_eta, recoPim_phi, recoPim_iso, recoPip_pt, recoPip_eta, recoPip_phi, recoPip_iso, recoPipPim_dR, recoGamma_pt, recoGamma_phi, recoGamma_eta, recoGamma_iso, genRecoGamma_isMatch, minGammaParton_dR, recoWLepton_id, recoWLepton_pt, recoWLepton_eta, recoWLepton_phi, recoWLepton_nLep\n"
     ]
    }
   ],
   "source": [
    "# Get list of branch names\n",
    "branches = dataframes[signal].keys()\n",
    "# Print branch names\n",
    "print(\"Branch Names:\\n\"+\", \".join(branches))"
   ]
  },
  {
   "cell_type": "markdown",
   "metadata": {},
   "source": [
    "## Modify Dataframes"
   ]
  },
  {
   "cell_type": "code",
   "execution_count": 6,
   "metadata": {},
   "outputs": [
    {
     "name": "stdout",
     "output_type": "stream",
     "text": [
      "TTJets_SingleLeptFromT\n",
      "(1345321, 78)\n",
      "(15230, 78)\n",
      "TTGamma_SingleLeptFromTbar\n",
      "(164673, 78)\n",
      "(30836, 78)\n",
      "WGToLNuG\n",
      "(14354, 78)\n",
      "(1045, 78)\n",
      "TTJets_SingleLeptFromTbar\n",
      "(1211618, 78)\n",
      "(13728, 78)\n",
      "WJetsToLNu\n",
      "(158681, 78)\n",
      "(660, 78)\n",
      "WH_HtoRhoGammaPhiGamma\n",
      "(370099, 78)\n",
      "(171237, 78)\n",
      "TTGamma_SingleLeptFromT\n",
      "(161253, 78)\n",
      "(30434, 78)\n"
     ]
    }
   ],
   "source": [
    "# Add bookkeeping columns, delete bad rows\n",
    "for name, df in dataframes.iteritems():\n",
    "    # Add signal bool and dataset name columns\n",
    "    df[\"stype\"] = samples.index(name)\n",
    "    df[\"signal\"] = (df[\"stype\"] == 0)\n",
    "    # Require found lepton, photon, meson\n",
    "    print(name)\n",
    "    print(df.shape)\n",
    "    df = df.drop(df.query(\"recoWLepton_pt < 0 or recoPhi_pt < 0 or recoRho_pt < 0 or recoGamma_pt < 0\").index)\n",
    "    print(df.shape)\n",
    "    # Avoid double-counting prompt photons\n",
    "    genGammaMatch = ( df.genRecoGamma_isMatch == 1 )\n",
    "    minGammaParton = ( df.minGammaParton_dR > 0.4 )\n",
    "    if name in [\"WGToLNuG\", \"TTGamma_SingleLeptFromT\", \"TTGamma_SingleLeptFromTbar\"]:\n",
    "        df = df.drop(df.query(\"not @genGammaMatch or not @minGammaParton\").index)\n",
    "    elif name in [\"WJetsToLNu\", \"TTJets_SingleLeptFromT\", \"TTJets_SingleLeptFromTbar\"]:\n",
    "        df = df.drop(df.query(\"@genGammaMatch and @minGammaParton\").index)\n",
    "    \n",
    "    dataframes[name] = df"
   ]
  },
  {
   "cell_type": "code",
   "execution_count": 7,
   "metadata": {},
   "outputs": [
    {
     "data": {
      "text/plain": [
       "<matplotlib.axes._subplots.AxesSubplot at 0x7f2efb2efed0>"
      ]
     },
     "execution_count": 7,
     "metadata": {},
     "output_type": "execute_result"
    },
    {
     "data": {
      "image/png": "[encoded data removed]",
      "text/plain": [
       "<Figure size 432x288 with 1 Axes>"
      ]
     },
     "metadata": {},
     "output_type": "display_data"
    }
   ],
   "source": [
    "dataframes[\"WH_HtoRhoGammaPhiGamma\"].query(\"recoPhi_phi > -999\").recoPhi_phi.hist(bins=np.linspace(-3.2,3.2,75))"
   ]
  },
  {
   "cell_type": "code",
   "execution_count": 8,
   "metadata": {},
   "outputs": [],
   "source": [
    "# Concatenate dataframes\n",
    "data = pd.concat(dataframes.values())\n",
    "        \n",
    "# Get bookkeeping columns to exclude in training\n",
    "excludes = [\"signal\", \"stype\", \"run\", \"lumi\", \"event\", \"scale1fb\",\n",
    "           \"recoMeson_nCands\", \"recoWLepton_nLep\", \"minGammaParton_dR\"]\n",
    "for bname in branches:\n",
    "    if \"gen\" in bname: excludes.append(bname)\n",
    "    elif \"_mass\" in bname: excludes.append(bname)\n",
    "    elif \"Rho\" in bname: excludes.append(bname)\n",
    "\n",
    "# Collect selected features\n",
    "features = sorted(list(set(data.columns.values)-set(excludes)))"
   ]
  },
  {
   "cell_type": "code",
   "execution_count": 9,
   "metadata": {},
   "outputs": [
    {
     "name": "stdout",
     "output_type": "stream",
     "text": [
      "Selected Feature Names:\n",
      "recoGamma_eta, recoGamma_iso, recoGamma_phi, recoGamma_pt, recoKm_eta, recoKm_iso, recoKm_phi, recoKm_pt, recoKpKm_dR, recoKp_eta, recoKp_iso, recoKp_phi, recoKp_pt, recoPhi_eta, recoPhi_iso, recoPhi_phi, recoPhi_pt, recoPim_eta, recoPim_iso, recoPim_phi, recoPim_pt, recoPipPim_dR, recoPip_eta, recoPip_iso, recoPip_phi, recoPip_pt, recoWLepton_eta, recoWLepton_id, recoWLepton_phi, recoWLepton_pt\n",
      "\n",
      "Excluded Feature Names:\n",
      "signal, stype, run, lumi, event, scale1fb, recoMeson_nCands, recoWLepton_nLep, minGammaParton_dR, genRecoGamma_dR, genRecoPhi_dR, genRecoRho_dR, genW_pt, genW_eta, genW_phi, genW_mass, genWLepton_id, genWLepton_pt, genWLepton_eta, genWLepton_phi, genHiggs_pt, genHiggs_eta, genHiggs_phi, genHiggs_mass, genHiggsMeson_id, genHiggsMeson_pt, genHiggsMeson_eta, genHiggsMeson_phi, genHiggsMeson_mass, genHiggsMesonGamma_dR, genKm_pt, genKm_phi, genKm_eta, genKp_pt, genKp_phi, genKp_eta, genKpKm_dR, genGamma_pt, genGamma_phi, genGamma_eta, recoHiggs_mass, recoPhi_mass, recoRho_mass, recoRho_pt, recoRho_eta, recoRho_phi, recoRho_iso, genRecoGamma_isMatch\n"
     ]
    }
   ],
   "source": [
    "# Display selected features\n",
    "print(\"Selected Feature Names:\\n\"+\", \".join(features)+\"\\n\")\n",
    "# Display excluded features\n",
    "print(\"Excluded Feature Names:\\n\"+\", \".join(excludes))"
   ]
  },
  {
   "cell_type": "code",
   "execution_count": 10,
   "metadata": {},
   "outputs": [],
   "source": [
    "# Weigh *_pt columns by reco Higgs mass\n",
    "for col in data.columns:\n",
    "    if \"_pt\" in col and col not in excludes:\n",
    "        data[col] = np.where(data[col] != -999, data[col], data[col]/data[\"recoHiggs_mass\"])"
   ]
  },
  {
   "cell_type": "code",
   "execution_count": 11,
   "metadata": {},
   "outputs": [],
   "source": [
    "# Plot all columns separately for background and signal\n",
    "# fig, axes = plt.subplots(6,6,figsize=(15,15))\n",
    "# df = data[features+[\"signal\"]][(data.stype == 0) | (data.stype == samples.index(\"TTGamma_SingleLeptFromTbar\"))]\n",
    "# ax = df[df.signal==0].hist(ax=axes.flatten()[:len(df.keys())],alpha=0.5,color=\"C0\",ylabelsize=0,density=True,layout=(6,6),bins=\"auto\")\n",
    "# ax = df[df.signal==1].hist(ax=axes.flatten()[:len(df.keys())],alpha=0.5,color=\"C3\",ylabelsize=0,density=True,layout=(6,6),bins=\"auto\")"
   ]
  },
  {
   "cell_type": "code",
   "execution_count": 12,
   "metadata": {},
   "outputs": [],
   "source": [
    "# Split dataframe for training and testing\n",
    "dummyWeights = np.ones(len(data[\"signal\"])) # in place of data[\"weights\"]\n",
    "x_train, x_test, y_train, y_test, stype_train, stype_test, weights_train, weights_test = train_test_split(\n",
    "                data[features],\n",
    "                data[\"signal\"],\n",
    "                data[\"stype\"],\n",
    "                dummyWeights,\n",
    "                test_size=0.25, random_state=42,\n",
    "                )"
   ]
  },
  {
   "cell_type": "markdown",
   "metadata": {},
   "source": [
    "## Train BDT"
   ]
  },
  {
   "cell_type": "code",
   "execution_count": 13,
   "metadata": {},
   "outputs": [],
   "source": [
    "dump_name = \"rpg.h\"\n",
    "\n",
    "# Sample selection (stype == 0 <--> signal)\n",
    "sel_test = ( (stype_test == 0) | (stype_test == samples.index(\"WJetsToLNu\")) )\n",
    "sel_train = ( (stype_train == 0) | (stype_train == samples.index(\"WJetsToLNu\")) )\n",
    "\n",
    "# BDT Input\n",
    "dtrain = xgb.DMatrix( x_train, label=y_train, weight=np.abs(weights_train))\n",
    "dtest = xgb.DMatrix( x_test, label=y_test, weight=np.abs(weights_test))\n",
    "evallist  = [(dtrain,'train'), (dtest,'eval')]\n",
    "\n",
    "# BDT Parameters Setup\n",
    "param = {}\n",
    "param['objective'] = 'binary:logistic'\n",
    "\n",
    "# BDT Knobs (Parameters)\n",
    "num_round = 200                 # Number of training rounds\n",
    "param['eta'] = 0.1              # Step size shrinkage (alias: learning_rate)\n",
    "param['max_depth'] = 4          # Max. depth of tree: larger = more complex = more prone to overfitting\n",
    "param['verbosity'] = 1          # 0 (silent), 1 (warning), 2 (info), 3 (debug)\n",
    "param['nthread'] = 4            # Number of parallel threads\n",
    "param['eval_metric'] = \"auc\"    # Evaluation metrics for validation data. 'auc' = Area Under the Curve\n",
    "param['subsample'] = 0.6        # Subsample ratio of the training instances\n",
    "param['alpha'] = 8.0            # L1 regularization term on weights: Larger = more conservative\n",
    "param['gamma'] = 2.0            # Min. loss rediction to make leaf (alias: min_split_loss)\n",
    "param['lambda'] = 1.0           # L2 regularization term on weights: Larger = more conservative\n",
    "param['min_child_weight'] = 1.0 # Minimum sum of instance weight (hessian) needed in a child\n",
    "param['colsample_bytree'] = 1.0 # The subsample ratio of columns when constructing each tree"
   ]
  },
  {
   "cell_type": "code",
   "execution_count": 14,
   "metadata": {},
   "outputs": [],
   "source": [
    "# Get pos/neg weights\n",
    "sumw_pos = np.abs(dtrain.get_weight()[dtrain.get_label()==1]).sum()\n",
    "sumw_neg = np.abs(dtrain.get_weight()[dtrain.get_label()==0]).sum()\n",
    "param[\"scale_pos_weight\"] = sumw_neg/sumw_pos"
   ]
  },
  {
   "cell_type": "code",
   "execution_count": 15,
   "metadata": {},
   "outputs": [
    {
     "name": "stdout",
     "output_type": "stream",
     "text": [
      "[0]\ttrain-auc:0.872637\teval-auc:0.869535\n",
      "Multiple eval metrics have been passed: 'eval-auc' will be used for early stopping.\n",
      "\n",
      "Will train until eval-auc hasn't improved in 15 rounds.\n",
      "[1]\ttrain-auc:0.880209\teval-auc:0.877631\n",
      "[2]\ttrain-auc:0.88391\teval-auc:0.881426\n",
      "[3]\ttrain-auc:0.892884\teval-auc:0.890714\n",
      "[4]\ttrain-auc:0.897727\teval-auc:0.895835\n",
      "[5]\ttrain-auc:0.899009\teval-auc:0.896894\n",
      "[6]\ttrain-auc:0.899672\teval-auc:0.8976\n",
      "[7]\ttrain-auc:0.900723\teval-auc:0.898383\n",
      "[8]\ttrain-auc:0.902823\teval-auc:0.900634\n",
      "[9]\ttrain-auc:0.903972\teval-auc:0.901801\n",
      "[10]\ttrain-auc:0.904458\teval-auc:0.902129\n",
      "[11]\ttrain-auc:0.904872\teval-auc:0.902533\n",
      "[12]\ttrain-auc:0.905704\teval-auc:0.903448\n",
      "[13]\ttrain-auc:0.90631\teval-auc:0.904161\n",
      "[14]\ttrain-auc:0.907135\teval-auc:0.904912\n",
      "[15]\ttrain-auc:0.907743\teval-auc:0.905617\n",
      "[16]\ttrain-auc:0.908249\teval-auc:0.906148\n",
      "[17]\ttrain-auc:0.908695\teval-auc:0.906481\n",
      "[18]\ttrain-auc:0.909257\teval-auc:0.9071\n",
      "[19]\ttrain-auc:0.909833\teval-auc:0.90772\n",
      "[20]\ttrain-auc:0.910348\teval-auc:0.908224\n",
      "[21]\ttrain-auc:0.910812\teval-auc:0.908653\n",
      "[22]\ttrain-auc:0.911169\teval-auc:0.90911\n",
      "[23]\ttrain-auc:0.911587\teval-auc:0.909485\n",
      "[24]\ttrain-auc:0.912629\teval-auc:0.910632\n",
      "[25]\ttrain-auc:0.912976\teval-auc:0.910918\n",
      "[26]\ttrain-auc:0.913631\teval-auc:0.911573\n",
      "[27]\ttrain-auc:0.914051\teval-auc:0.911956\n",
      "[28]\ttrain-auc:0.914656\teval-auc:0.912528\n",
      "[29]\ttrain-auc:0.915132\teval-auc:0.912993\n",
      "[30]\ttrain-auc:0.915404\teval-auc:0.913234\n",
      "[31]\ttrain-auc:0.916174\teval-auc:0.914034\n",
      "[32]\ttrain-auc:0.916472\teval-auc:0.914324\n",
      "[33]\ttrain-auc:0.916823\teval-auc:0.914618\n",
      "[34]\ttrain-auc:0.917356\teval-auc:0.915143\n",
      "[35]\ttrain-auc:0.917581\teval-auc:0.91538\n",
      "[36]\ttrain-auc:0.9178\teval-auc:0.915558\n",
      "[37]\ttrain-auc:0.918063\teval-auc:0.915834\n",
      "[38]\ttrain-auc:0.918392\teval-auc:0.916132\n",
      "[39]\ttrain-auc:0.918706\teval-auc:0.91645\n",
      "[40]\ttrain-auc:0.919002\teval-auc:0.916671\n",
      "[41]\ttrain-auc:0.919656\teval-auc:0.917333\n",
      "[42]\ttrain-auc:0.919877\teval-auc:0.917528\n",
      "[43]\ttrain-auc:0.920261\teval-auc:0.917889\n",
      "[44]\ttrain-auc:0.920394\teval-auc:0.917986\n",
      "[45]\ttrain-auc:0.921023\teval-auc:0.918583\n",
      "[46]\ttrain-auc:0.921236\teval-auc:0.918744\n",
      "[47]\ttrain-auc:0.921511\teval-auc:0.918985\n",
      "[48]\ttrain-auc:0.921943\teval-auc:0.919388\n",
      "[49]\ttrain-auc:0.92217\teval-auc:0.919625\n",
      "[50]\ttrain-auc:0.922419\teval-auc:0.919861\n",
      "[51]\ttrain-auc:0.922511\teval-auc:0.919923\n",
      "[52]\ttrain-auc:0.922639\teval-auc:0.920032\n",
      "[53]\ttrain-auc:0.922936\teval-auc:0.920337\n",
      "[54]\ttrain-auc:0.923233\teval-auc:0.920598\n",
      "[55]\ttrain-auc:0.923458\teval-auc:0.920812\n",
      "[56]\ttrain-auc:0.924008\teval-auc:0.921335\n",
      "[57]\ttrain-auc:0.924225\teval-auc:0.921523\n",
      "[58]\ttrain-auc:0.924505\teval-auc:0.921784\n",
      "[59]\ttrain-auc:0.924788\teval-auc:0.92205\n",
      "[60]\ttrain-auc:0.925068\teval-auc:0.922293\n",
      "[61]\ttrain-auc:0.92536\teval-auc:0.92257\n",
      "[62]\ttrain-auc:0.925522\teval-auc:0.922718\n",
      "[63]\ttrain-auc:0.925726\teval-auc:0.922872\n",
      "[64]\ttrain-auc:0.925822\teval-auc:0.922938\n",
      "[65]\ttrain-auc:0.926204\teval-auc:0.923322\n",
      "[66]\ttrain-auc:0.926255\teval-auc:0.923362\n",
      "[67]\ttrain-auc:0.926611\teval-auc:0.92373\n",
      "[68]\ttrain-auc:0.926758\teval-auc:0.923875\n",
      "[69]\ttrain-auc:0.928276\teval-auc:0.925429\n",
      "[70]\ttrain-auc:0.928902\teval-auc:0.926039\n",
      "[71]\ttrain-auc:0.929127\teval-auc:0.9262\n",
      "[72]\ttrain-auc:0.92926\teval-auc:0.926305\n",
      "[73]\ttrain-auc:0.929315\teval-auc:0.926348\n",
      "[74]\ttrain-auc:0.929369\teval-auc:0.926387\n",
      "[75]\ttrain-auc:0.929514\teval-auc:0.926498\n",
      "[76]\ttrain-auc:0.929558\teval-auc:0.926508\n",
      "[77]\ttrain-auc:0.929612\teval-auc:0.926576\n",
      "[78]\ttrain-auc:0.92984\teval-auc:0.926811\n",
      "[79]\ttrain-auc:0.930945\teval-auc:0.927952\n",
      "[80]\ttrain-auc:0.931838\teval-auc:0.928877\n",
      "[81]\ttrain-auc:0.932566\teval-auc:0.92962\n",
      "[82]\ttrain-auc:0.93266\teval-auc:0.929706\n",
      "[83]\ttrain-auc:0.932797\teval-auc:0.929836\n",
      "[84]\ttrain-auc:0.932862\teval-auc:0.929884\n",
      "[85]\ttrain-auc:0.933142\teval-auc:0.930155\n",
      "[86]\ttrain-auc:0.933199\teval-auc:0.930206\n",
      "[87]\ttrain-auc:0.933253\teval-auc:0.930255\n",
      "[88]\ttrain-auc:0.933326\teval-auc:0.930313\n",
      "[89]\ttrain-auc:0.933442\teval-auc:0.930436\n",
      "[90]\ttrain-auc:0.933534\teval-auc:0.930547\n",
      "[91]\ttrain-auc:0.933592\teval-auc:0.93058\n",
      "[92]\ttrain-auc:0.933726\teval-auc:0.930695\n",
      "[93]\ttrain-auc:0.933961\teval-auc:0.930922\n",
      "[94]\ttrain-auc:0.933993\teval-auc:0.930921\n",
      "[95]\ttrain-auc:0.934005\teval-auc:0.930927\n",
      "[96]\ttrain-auc:0.934189\teval-auc:0.931101\n",
      "[97]\ttrain-auc:0.934323\teval-auc:0.931222\n",
      "[98]\ttrain-auc:0.93445\teval-auc:0.931319\n",
      "[99]\ttrain-auc:0.934624\teval-auc:0.931473\n",
      "[100]\ttrain-auc:0.93464\teval-auc:0.931492\n",
      "[101]\ttrain-auc:0.935487\teval-auc:0.932321\n",
      "[102]\ttrain-auc:0.935867\teval-auc:0.932733\n",
      "[103]\ttrain-auc:0.936024\teval-auc:0.932882\n",
      "[104]\ttrain-auc:0.936163\teval-auc:0.933004\n",
      "[105]\ttrain-auc:0.936413\teval-auc:0.933254\n",
      "[106]\ttrain-auc:0.936547\teval-auc:0.933389\n",
      "[107]\ttrain-auc:0.937011\teval-auc:0.933874\n",
      "[108]\ttrain-auc:0.937084\teval-auc:0.933918\n",
      "[109]\ttrain-auc:0.93733\teval-auc:0.934195\n",
      "[110]\ttrain-auc:0.937689\teval-auc:0.934569\n",
      "[111]\ttrain-auc:0.937718\teval-auc:0.934599\n",
      "[112]\ttrain-auc:0.937808\teval-auc:0.934685\n",
      "[113]\ttrain-auc:0.937931\teval-auc:0.934783\n",
      "[114]\ttrain-auc:0.938259\teval-auc:0.935138\n",
      "[115]\ttrain-auc:0.938379\teval-auc:0.935281\n",
      "[116]\ttrain-auc:0.938504\teval-auc:0.935399\n",
      "[117]\ttrain-auc:0.938567\teval-auc:0.935438\n",
      "[118]\ttrain-auc:0.938693\teval-auc:0.935563\n",
      "[119]\ttrain-auc:0.938719\teval-auc:0.935563\n",
      "[120]\ttrain-auc:0.938805\teval-auc:0.935625\n",
      "[121]\ttrain-auc:0.939303\teval-auc:0.936107\n",
      "[122]\ttrain-auc:0.93938\teval-auc:0.93618\n",
      "[123]\ttrain-auc:0.939527\teval-auc:0.936308\n",
      "[124]\ttrain-auc:0.939544\teval-auc:0.936314\n",
      "[125]\ttrain-auc:0.939694\teval-auc:0.936439\n",
      "[126]\ttrain-auc:0.939894\teval-auc:0.936594\n",
      "[127]\ttrain-auc:0.93994\teval-auc:0.936634\n",
      "[128]\ttrain-auc:0.940012\teval-auc:0.936698\n",
      "[129]\ttrain-auc:0.940033\teval-auc:0.936715\n",
      "[130]\ttrain-auc:0.940336\teval-auc:0.936992\n",
      "[131]\ttrain-auc:0.940385\teval-auc:0.937009\n",
      "[132]\ttrain-auc:0.940645\teval-auc:0.937291\n",
      "[133]\ttrain-auc:0.940678\teval-auc:0.937321\n",
      "[134]\ttrain-auc:0.940789\teval-auc:0.937448\n",
      "[135]\ttrain-auc:0.940955\teval-auc:0.937604\n",
      "[136]\ttrain-auc:0.941148\teval-auc:0.937835\n",
      "[137]\ttrain-auc:0.941199\teval-auc:0.937876\n",
      "[138]\ttrain-auc:0.941247\teval-auc:0.937912\n",
      "[139]\ttrain-auc:0.941515\teval-auc:0.938142\n",
      "[140]\ttrain-auc:0.941576\teval-auc:0.938185\n",
      "[141]\ttrain-auc:0.941935\teval-auc:0.938531\n",
      "[142]\ttrain-auc:0.942387\teval-auc:0.938965\n",
      "[143]\ttrain-auc:0.94262\teval-auc:0.939199\n",
      "[144]\ttrain-auc:0.942762\teval-auc:0.939324\n",
      "[145]\ttrain-auc:0.942888\teval-auc:0.939447\n",
      "[146]\ttrain-auc:0.942923\teval-auc:0.939471\n",
      "[147]\ttrain-auc:0.943006\teval-auc:0.939545\n",
      "[148]\ttrain-auc:0.943345\teval-auc:0.939877\n",
      "[149]\ttrain-auc:0.943748\teval-auc:0.940257\n",
      "[150]\ttrain-auc:0.943893\teval-auc:0.940434\n",
      "[151]\ttrain-auc:0.943971\teval-auc:0.940526\n",
      "[152]\ttrain-auc:0.944072\teval-auc:0.94061\n",
      "[153]\ttrain-auc:0.944196\teval-auc:0.940708\n",
      "[154]\ttrain-auc:0.944308\teval-auc:0.940835\n",
      "[155]\ttrain-auc:0.944559\teval-auc:0.941073\n",
      "[156]\ttrain-auc:0.944682\teval-auc:0.941221\n",
      "[157]\ttrain-auc:0.944865\teval-auc:0.941421\n",
      "[158]\ttrain-auc:0.94494\teval-auc:0.941476\n",
      "[159]\ttrain-auc:0.945\teval-auc:0.941516\n",
      "[160]\ttrain-auc:0.945041\teval-auc:0.941538\n",
      "[161]\ttrain-auc:0.945191\teval-auc:0.941703\n",
      "[162]\ttrain-auc:0.945506\teval-auc:0.942043\n",
      "[163]\ttrain-auc:0.945671\teval-auc:0.942183\n",
      "[164]\ttrain-auc:0.945705\teval-auc:0.942203\n",
      "[165]\ttrain-auc:0.946032\teval-auc:0.94254\n",
      "[166]\ttrain-auc:0.946081\teval-auc:0.942577\n",
      "[167]\ttrain-auc:0.946446\teval-auc:0.942895\n",
      "[168]\ttrain-auc:0.946521\teval-auc:0.94298\n",
      "[169]\ttrain-auc:0.946604\teval-auc:0.943042\n",
      "[170]\ttrain-auc:0.946651\teval-auc:0.943072\n",
      "[171]\ttrain-auc:0.946734\teval-auc:0.943134\n",
      "[172]\ttrain-auc:0.946786\teval-auc:0.943181\n",
      "[173]\ttrain-auc:0.946833\teval-auc:0.943214\n",
      "[174]\ttrain-auc:0.946978\teval-auc:0.943324\n",
      "[175]\ttrain-auc:0.947258\teval-auc:0.943631\n",
      "[176]\ttrain-auc:0.947357\teval-auc:0.943716\n",
      "[177]\ttrain-auc:0.947414\teval-auc:0.943755\n",
      "[178]\ttrain-auc:0.947518\teval-auc:0.943857\n",
      "[179]\ttrain-auc:0.947524\teval-auc:0.943863\n",
      "[180]\ttrain-auc:0.947543\teval-auc:0.943886\n",
      "[181]\ttrain-auc:0.947643\teval-auc:0.943952\n",
      "[182]\ttrain-auc:0.947874\teval-auc:0.944169\n",
      "[183]\ttrain-auc:0.948077\teval-auc:0.944379\n",
      "[184]\ttrain-auc:0.948247\teval-auc:0.944564\n",
      "[185]\ttrain-auc:0.948295\teval-auc:0.944585\n",
      "[186]\ttrain-auc:0.94854\teval-auc:0.944781\n",
      "[187]\ttrain-auc:0.948609\teval-auc:0.944838\n",
      "[188]\ttrain-auc:0.948645\teval-auc:0.944865\n",
      "[189]\ttrain-auc:0.948913\teval-auc:0.945117\n",
      "[190]\ttrain-auc:0.948989\teval-auc:0.945165\n"
     ]
    },
    {
     "name": "stdout",
     "output_type": "stream",
     "text": [
      "[191]\ttrain-auc:0.94909\teval-auc:0.945242\n",
      "[192]\ttrain-auc:0.949262\teval-auc:0.945427\n",
      "[193]\ttrain-auc:0.949362\teval-auc:0.945533\n",
      "[194]\ttrain-auc:0.94949\teval-auc:0.945649\n",
      "[195]\ttrain-auc:0.949632\teval-auc:0.945777\n",
      "[196]\ttrain-auc:0.949781\teval-auc:0.945914\n",
      "[197]\ttrain-auc:0.950069\teval-auc:0.946175\n",
      "[198]\ttrain-auc:0.950136\teval-auc:0.94623\n",
      "[199]\ttrain-auc:0.950245\teval-auc:0.946319\n"
     ]
    }
   ],
   "source": [
    "# Train\n",
    "bst = xgb.train( param.items(), dtrain, num_round, evallist, early_stopping_rounds=15 )"
   ]
  },
  {
   "cell_type": "code",
   "execution_count": 16,
   "metadata": {},
   "outputs": [],
   "source": [
    "# Get predictions\n",
    "preds_train = bst.predict(xgb.DMatrix(x_train))\n",
    "preds_test = bst.predict(xgb.DMatrix(x_test))"
   ]
  },
  {
   "cell_type": "markdown",
   "metadata": {},
   "source": [
    "## Evaluate Performance"
   ]
  },
  {
   "cell_type": "code",
   "execution_count": 17,
   "metadata": {},
   "outputs": [
    {
     "data": {
      "image/png": "[encoded data removed]",
      "text/plain": [
       "<Figure size 1152x432 with 2 Axes>"
      ]
     },
     "metadata": {},
     "output_type": "display_data"
    }
   ],
   "source": [
    "# Suplots setup\n",
    "fig, axes = plt.subplots(1,2,figsize=(16,6))\n",
    "\n",
    "# Subplot 1: Plot ROC curves\n",
    "plt.subplot(1, 2, 1)\n",
    "# Test ROC Curve\n",
    "fpr, tpr, thresh = roc_curve(y_test,preds_test)\n",
    "plt.plot(fpr, tpr, label=\"test set (AUC = {:.2f})\".format(np.trapz(tpr,fpr)));\n",
    "# Train ROC Curve\n",
    "fpr, tpr, thresh = roc_curve(y_train,preds_train)\n",
    "plt.plot(fpr, tpr, label=\"train set (AUC = {:.2f})\".format(np.trapz(tpr,fpr)));\n",
    "# Settings\n",
    "plt.xlabel(\"background efficiency\");\n",
    "plt.ylabel(\"signal efficiency\");\n",
    "plt.legend();\n",
    "\n",
    "# Subplot 2: Plot distribution of BDT outputs\n",
    "plt.subplot(1, 2, 2)\n",
    "bins = np.linspace(0.,1.,30)\n",
    "# Training - Background\n",
    "plt.hist(preds_train[y_train==0], weights=weights_train[y_train==0], bins=bins,histtype=\"stepfilled\",alpha=0.45, density=True, label=\"bkg, train\",color=\"C0\");\n",
    "# Training - Signal\n",
    "plt.hist(preds_train[y_train==1], weights=weights_train[y_train==1], bins=bins,histtype=\"stepfilled\",alpha=0.45, density=True, label=\"sig, train\",color=\"C3\");\n",
    "# Testing - Background\n",
    "plt.hist(preds_test[y_test==0], weights=weights_test[y_test==0], bins=bins,histtype=\"step\",alpha=1.0, density=True, label=\"bkg, test\",color=\"C0\", lw=1.5, linestyle=\"solid\");\n",
    "# Testing - Signal\n",
    "plt.hist(preds_test[y_test==1], weights=weights_test[y_test==1], bins=bins,histtype=\"step\",alpha=1.0, density=True, label=\"sig, test\",color=\"C3\", lw=1.5, linestyle=\"solid\");\n",
    "# Settings\n",
    "plt.xlabel(\"bdt output\");"
   ]
  },
  {
   "cell_type": "code",
   "execution_count": 18,
   "metadata": {
    "scrolled": true
   },
   "outputs": [
    {
     "name": "stdout",
     "output_type": "stream",
     "text": [
      "| Cut             | Gain            |\n",
      "| --------------- | --------------- | \n",
      "| recoPim_pt      | 11.1239263057   |\n",
      "| --------------- | --------------- | \n",
      "| recoPip_pt      | 12.4251943292   |\n",
      "| --------------- | --------------- | \n",
      "| recoKp_eta      | 14.5565934992   |\n",
      "| --------------- | --------------- | \n",
      "| recoKm_eta      | 14.9082948315   |\n",
      "| --------------- | --------------- | \n",
      "| recoPip_eta     | 15.8777043809   |\n",
      "| --------------- | --------------- | \n",
      "| recoPhi_eta     | 17.0577479528   |\n",
      "| --------------- | --------------- | \n",
      "| recoKm_iso      | 18.1327319036   |\n",
      "| --------------- | --------------- | \n",
      "| recoPim_eta     | 19.7478214378   |\n",
      "| --------------- | --------------- | \n",
      "| recoGamma_eta   | 20.5480934057   |\n",
      "| --------------- | --------------- | \n",
      "| recoKpKm_dR     | 23.4229199153   |\n",
      "| --------------- | --------------- | \n",
      "| recoKp_iso      | 23.44504699     |\n",
      "| --------------- | --------------- | \n",
      "| recoWLepton_eta | 24.2983168071   |\n",
      "| --------------- | --------------- | \n",
      "| recoGamma_phi   | 25.3471394385   |\n",
      "| --------------- | --------------- | \n",
      "| recoWLepton_pt  | 26.5608728237   |\n",
      "| --------------- | --------------- | \n",
      "| recoKp_phi      | 28.3684462991   |\n",
      "| --------------- | --------------- | \n",
      "| recoWLepton_id  | 28.6873035113   |\n",
      "| --------------- | --------------- | \n",
      "| recoKm_phi      | 29.137890811    |\n",
      "| --------------- | --------------- | \n",
      "| recoGamma_iso   | 33.2161808804   |\n",
      "| --------------- | --------------- | \n",
      "| recoPhi_phi     | 33.6050210378   |\n",
      "| --------------- | --------------- | \n",
      "| recoKm_pt       | 38.5961594965   |\n",
      "| --------------- | --------------- | \n",
      "| recoKp_pt       | 42.4301353322   |\n",
      "| --------------- | --------------- | \n",
      "| recoPim_phi     | 51.6066227953   |\n",
      "| --------------- | --------------- | \n",
      "| recoWLepton_phi | 53.6863606197   |\n",
      "| --------------- | --------------- | \n",
      "| recoPip_phi     | 75.1892409095   |\n",
      "| --------------- | --------------- | \n",
      "| recoGamma_pt    | 105.896310114   |\n",
      "| --------------- | --------------- | \n",
      "| recoPhi_pt      | 106.357232249   |\n",
      "| --------------- | --------------- | \n",
      "| recoPim_iso     | 136.883244485   |\n",
      "| --------------- | --------------- | \n",
      "| recoPip_iso     | 142.094521365   |\n",
      "| --------------- | --------------- | \n",
      "| recoPipPim_dR   | 484.622472408   |\n",
      "| --------------- | --------------- | \n",
      "| recoPhi_iso     | 521.655834398   |\n"
     ]
    }
   ],
   "source": [
    "# Get cut scores\n",
    "scores = bst.get_score(importance_type='gain')\n",
    "# Print as table\n",
    "length = 0\n",
    "for key, val in scores.iteritems():\n",
    "    val = str(val)\n",
    "    if len(key) > length:\n",
    "        length = len(key)\n",
    "    if len(val) > length:\n",
    "        length = len(val)\n",
    "print (\"| Cut{0:{length}} | Gain{0:<{length}}|\".format(\"\", length=length-3))\n",
    "for cut, gain in sorted(scores.items(), key=lambda kv:kv[1]):\n",
    "    toPrint = \"| {0:<{length}} | {1:<{length}} |\".format(cut, gain, length=length)\n",
    "    print(\"| \"+\"-\"*length+\" | \"+\"-\"*length+\" | \")\n",
    "    print(toPrint)"
   ]
  },
  {
   "cell_type": "markdown",
   "metadata": {},
   "source": [
    "## Save BDT"
   ]
  },
  {
   "cell_type": "code",
   "execution_count": 20,
   "metadata": {},
   "outputs": [],
   "source": [
    "# Write to JSON\n",
    "WriteJSON(\"bdt.json\", bst, features)\n",
    "JSONtoC(\"bdt.json\", \"bdt.h\")\n",
    "# Write to pickle file\n",
    "pickle.dump(bst, open(\"bdt.pkl\", \"w\"))"
   ]
  }
 ],
 "metadata": {
  "kernelspec": {
   "display_name": "Python 2",
   "language": "python",
   "name": "python2"
  },
  "language_info": {
   "codemirror_mode": {
    "name": "ipython",
    "version": 2
   },
   "file_extension": ".py",
   "mimetype": "text/x-python",
   "name": "python",
   "nbconvert_exporter": "python",
   "pygments_lexer": "ipython2",
   "version": "2.7.14+"
  }
 },
 "nbformat": 4,
 "nbformat_minor": 2
}
