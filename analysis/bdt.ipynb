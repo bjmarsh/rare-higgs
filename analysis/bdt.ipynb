{
 "cells": [
  {
   "cell_type": "code",
   "execution_count": 107,
   "metadata": {},
   "outputs": [],
   "source": [
    "# General\n",
    "import os, sys\n",
    "# Handling ROOT files\n",
    "import numpy as np\n",
    "import uproot\n",
    "import pandas as pd\n",
    "# Plotting\n",
    "import matplotlib\n",
    "from matplottery import Hist1D, Hist2D, plot_stack\n",
    "import matplotlib.pyplot as plt\n",
    "# Machine Learning\n",
    "from sklearn.ensemble import GradientBoostingClassifier\n",
    "from sklearn.model_selection import train_test_split\n",
    "from sklearn.metrics import roc_curve\n",
    "import xgboost as xgb #BDT\n",
    "import ast\n",
    "import json\n",
    "# Custom Tools\n",
    "from data import GetData\n",
    "# Jupyter Display Settings\n",
    "%matplotlib inline\n",
    "pd.set_option('display.max_rows', 20)"
   ]
  },
  {
   "cell_type": "markdown",
   "metadata": {},
   "source": [
    "# Global Variables"
   ]
  },
  {
   "cell_type": "code",
   "execution_count": 108,
   "metadata": {},
   "outputs": [],
   "source": [
    "# Manualy set signal name\n",
    "signal = \"WH_HtoRhoGammaPhiGamma\""
   ]
  },
  {
   "cell_type": "markdown",
   "metadata": {},
   "source": [
    "# Get Data"
   ]
  },
  {
   "cell_type": "code",
   "execution_count": 109,
   "metadata": {},
   "outputs": [
    {
     "name": "stdout",
     "output_type": "stream",
     "text": [
      "Loaded Dataframes:\n",
      "    TTJets_SingleLeptFromT\n",
      "    TTGamma_SingleLeptFromTbar\n",
      "    WGToLNuG\n",
      "    TTJets_SingleLeptFromTbar\n",
      "    WJetsToLNu\n",
      "    WH_HtoRhoGammaPhiGamma\n",
      "    TTGamma_SingleLeptFromT\n"
     ]
    }
   ],
   "source": [
    "# Get dataframes\n",
    "dataframes = GetData(\"outputs\", verbose=True)"
   ]
  },
  {
   "cell_type": "code",
   "execution_count": 110,
   "metadata": {},
   "outputs": [
    {
     "name": "stdout",
     "output_type": "stream",
     "text": [
      "Branch Names:\n",
      "run, lumi, event, scale1fb, genRecoGamma_dR, genRecoPhi_dR, genRecoRho_dR, genW_pt, genW_eta, genW_phi, genW_mass, genWLepton_id, genWLepton_pt, genWLepton_eta, genWLepton_phi, genHiggs_pt, genHiggs_eta, genHiggs_phi, genHiggs_mass, genHiggsMeson_id, genHiggsMeson_pt, genHiggsMeson_eta, genHiggsMeson_phi, genHiggsMeson_mass, genHiggsMesonGamma_dR, genKm_pt, genKm_phi, genKm_eta, genKp_pt, genKp_phi, genKp_eta, genKpKm_dR, genGamma_pt, genGamma_phi, genGamma_eta, recoHiggs_mass, recoMeson_nCands, recoPhi_mass, recoPhi_pt, recoPhi_eta, recoPhi_phi, recoPhi_iso, recoKm_pt, recoKm_eta, recoKm_phi, recoKm_iso, recoKp_pt, recoKp_eta, recoKp_phi, recoKp_iso, recoKpKm_dR, recoRho_mass, recoRho_pt, recoRho_eta, recoRho_phi, recoRho_iso, recoPim_pt, recoPim_eta, recoPim_phi, recoPim_iso, recoPip_pt, recoPip_eta, recoPip_phi, recoPip_iso, recoPipPim_dR, recoGamma_pt, recoGamma_phi, recoGamma_eta, recoGamma_iso, genRecoGamma_isMatch, minGammaParton_dR, recoWLepton_id, recoWLepton_pt, recoWLepton_eta, recoWLepton_phi, recoWLepton_nLep\n"
     ]
    }
   ],
   "source": [
    "# Print branch names\n",
    "branches = dataframes[signal].keys()\n",
    "print(\"Branch Names:\\n\"+\", \".join(branches))"
   ]
  },
  {
   "cell_type": "code",
   "execution_count": 111,
   "metadata": {},
   "outputs": [],
   "source": [
    "# Add signal bool and dataset name columns\n",
    "for name, df in dataframes.iteritems():\n",
    "    if name == signal:\n",
    "        df[\"stype\"] = np.ones_like(df[\"lumi\"])\n",
    "    else:\n",
    "        df[\"stype\"] = np.zeros_like(df[\"lumi\"])\n",
    "    df[\"signal\"] = (df[\"stype\"] == 0)\n",
    "\n",
    "# Concatenate dataframes\n",
    "data = pd.concat(dataframes.values())\n",
    "        \n",
    "# Get bookkeeping columns to exclude in training\n",
    "exclude = [\"signal\", \"stype\", \"run\", \"lumi\", \"event\", \"scale1fb\",\n",
    "           \"recoMeson_nCands\", \"recoWLepton_nLep\", \"minGammaParton_dR\"]\n",
    "for bname in branches:\n",
    "    if \"gen\" in bname: exclude.append(bname)\n",
    "    \n",
    "# Collect selected features\n",
    "features = sorted(list(set(df.columns.values)-set(exclude)))"
   ]
  },
  {
   "cell_type": "code",
   "execution_count": 112,
   "metadata": {},
   "outputs": [
    {
     "name": "stdout",
     "output_type": "stream",
     "text": [
      "Selected Feature Names:\n",
      "recoGamma_eta, recoGamma_iso, recoGamma_phi, recoGamma_pt, recoHiggs_mass, recoKm_eta, recoKm_iso, recoKm_phi, recoKm_pt, recoKpKm_dR, recoKp_eta, recoKp_iso, recoKp_phi, recoKp_pt, recoPhi_eta, recoPhi_iso, recoPhi_mass, recoPhi_phi, recoPhi_pt, recoPim_eta, recoPim_iso, recoPim_phi, recoPim_pt, recoPipPim_dR, recoPip_eta, recoPip_iso, recoPip_phi, recoPip_pt, recoRho_eta, recoRho_iso, recoRho_mass, recoRho_phi, recoRho_pt, recoWLepton_eta, recoWLepton_id, recoWLepton_phi, recoWLepton_pt\n"
     ]
    }
   ],
   "source": [
    "# Display selected features\n",
    "print(\"Selected Feature Names:\\n\"+\", \".join(features))"
   ]
  },
  {
   "cell_type": "code",
   "execution_count": 113,
   "metadata": {},
   "outputs": [],
   "source": [
    "# Split dataframe for training and testing\n",
    "dummyWeights = np.ones(len(data[\"signal\"])) # in place of data[\"weights\"]\n",
    "x_train, x_test, y_train, y_test, stype_train, stype_test, weights_train, weights_test = train_test_split(\n",
    "                data[features],\n",
    "                data[\"signal\"],\n",
    "                data[\"stype\"],\n",
    "                dummyWeights,\n",
    "                test_size=0.25, random_state=42,\n",
    "                )"
   ]
  },
  {
   "cell_type": "markdown",
   "metadata": {},
   "source": [
    "# Train BDT"
   ]
  },
  {
   "cell_type": "code",
   "execution_count": 114,
   "metadata": {},
   "outputs": [],
   "source": [
    "sel_test = stype_test != 1.\n",
    "sel_train = stype_train != 1.\n",
    "dump_name = \"rpg.h\"\n",
    "\n",
    "dtrain = xgb.DMatrix( x_train[sel_train], label=y_train[sel_train], weight=np.abs(weights_train[sel_train]))\n",
    "dtest = xgb.DMatrix( x_test[sel_test], label=y_test[sel_test], weight=np.abs(weights_test[sel_test]))\n",
    "evallist  = [(dtrain,'train'), (dtest,'eval')]\n",
    "param = {}\n",
    "param['objective'] = 'binary:logistic'\n",
    "\n",
    "# BDT Knobs\n",
    "num_round = 20\n",
    "param['eta'] = 0.07\n",
    "param['max_depth'] = 4\n",
    "# param['max_depth'] = 5\n",
    "param['silent'] = 1\n",
    "param['nthread'] = 4\n",
    "param['eval_metric'] = \"auc\"\n",
    "param['subsample'] = 0.6\n",
    "param['alpha'] = 8.0\n",
    "param['gamma'] = 2.0\n",
    "param['lambda'] = 1.0\n",
    "param['min_child_weight'] = 1.0\n",
    "param['colsample_bytree'] = 1.0"
   ]
  },
  {
   "cell_type": "code",
   "execution_count": 115,
   "metadata": {},
   "outputs": [],
   "source": [
    "# Get pos/neg weights\n",
    "sumw_pos = np.abs(dtrain.get_weight()[dtrain.get_label()==1]).sum()\n",
    "sumw_neg = np.abs(dtrain.get_weight()[dtrain.get_label()==0]).sum()\n",
    "param[\"scale_pos_weight\"] = sumw_neg/sumw_pos"
   ]
  },
  {
   "cell_type": "code",
   "execution_count": 116,
   "metadata": {},
   "outputs": [
    {
     "ename": "XGBoostError",
     "evalue": "[20:16:29] src/metric/rank_metric.cc:135: Check failed: !auc_error AUC: the dataset only contains pos or neg samples\n\nStack trace returned 10 entries:\n[bt] (0) /cvmfs/cms.cern.ch/slc6_amd64_gcc700/external/py2-xgboost/0.72/lib/python2.7/site-packages/xgboost/./lib/libxgboost.so(dmlc::StackTrace[abi:cxx11]()+0x3b) [0x7f923d958c7b]\n[bt] (1) /cvmfs/cms.cern.ch/slc6_amd64_gcc700/external/py2-xgboost/0.72/lib/python2.7/site-packages/xgboost/./lib/libxgboost.so(dmlc::LogMessageFatal::~LogMessageFatal()+0x29) [0x7f923d9593d9]\n[bt] (2) /cvmfs/cms.cern.ch/slc6_amd64_gcc700/external/py2-xgboost/0.72/lib/python2.7/site-packages/xgboost/./lib/libxgboost.so(xgboost::metric::EvalAuc::Eval(std::vector<float, std::allocator<float> > const&, xgboost::MetaInfo const&, bool) const+0xf46) [0x7f923da27fe6]\n[bt] (3) /cvmfs/cms.cern.ch/slc6_amd64_gcc700/external/py2-xgboost/0.72/lib/python2.7/site-packages/xgboost/./lib/libxgboost.so(xgboost::LearnerImpl::EvalOneIter(int, std::vector<xgboost::DMatrix*, std::allocator<xgboost::DMatrix*> > const&, std::vector<std::__cxx11::basic_string<char, std::char_traits<char>, std::allocator<char> >, std::allocator<std::__cxx11::basic_string<char, std::char_traits<char>, std::allocator<char> > > > const&)+0x248) [0x7f923d9620a8]\n[bt] (4) /cvmfs/cms.cern.ch/slc6_amd64_gcc700/external/py2-xgboost/0.72/lib/python2.7/site-packages/xgboost/./lib/libxgboost.so(XGBoosterEvalOneIter+0x364) [0x7f923d975a74]\n[bt] (5) /cvmfs/cms.cern.ch/slc6_amd64_gcc700/cms/cmssw/CMSSW_10_2_5/external/slc6_amd64_gcc700/lib/libffi.so.6(ffi_call_unix64+0x4c) [0x7f926a958242]\n[bt] (6) /cvmfs/cms.cern.ch/slc6_amd64_gcc700/cms/cmssw/CMSSW_10_2_5/external/slc6_amd64_gcc700/lib/libffi.so.6(ffi_call+0x1a1) [0x7f926a9572a1]\n[bt] (7) /cvmfs/cms.cern.ch/slc6_amd64_gcc700/external/python/2.7.14-omkpbe4/lib/python2.7/lib-dynload/_ctypes.so(_ctypes_callproc+0x485) [0x7f926a96e115]\n[bt] (8) /cvmfs/cms.cern.ch/slc6_amd64_gcc700/external/python/2.7.14-omkpbe4/lib/python2.7/lib-dynload/_ctypes.so(+0x8b0f) [0x7f926a964b0f]\n[bt] (9) /cvmfs/cms.cern.ch/slc6_amd64_gcc700/cms/cmssw/CMSSW_10_2_5/external/slc6_amd64_gcc700/lib/libpython2.7.so.1.0(PyObject_Call+0x43) [0x7f926d027ef3]\n\n",
     "output_type": "error",
     "traceback": [
      "\u001b[0;31m---------------------------------------------------------------------------\u001b[0m",
      "\u001b[0;31mXGBoostError\u001b[0m                              Traceback (most recent call last)",
      "\u001b[0;32m<ipython-input-116-638114206ca6>\u001b[0m in \u001b[0;36m<module>\u001b[0;34m()\u001b[0m\n\u001b[1;32m      1\u001b[0m \u001b[0;31m# Train\u001b[0m\u001b[0;34m\u001b[0m\u001b[0;34m\u001b[0m\u001b[0m\n\u001b[0;32m----> 2\u001b[0;31m \u001b[0mbst\u001b[0m \u001b[0;34m=\u001b[0m \u001b[0mxgb\u001b[0m\u001b[0;34m.\u001b[0m\u001b[0mtrain\u001b[0m\u001b[0;34m(\u001b[0m \u001b[0mparam\u001b[0m\u001b[0;34m.\u001b[0m\u001b[0mitems\u001b[0m\u001b[0;34m(\u001b[0m\u001b[0;34m)\u001b[0m\u001b[0;34m,\u001b[0m \u001b[0mdtrain\u001b[0m\u001b[0;34m,\u001b[0m \u001b[0mnum_round\u001b[0m\u001b[0;34m,\u001b[0m \u001b[0mevallist\u001b[0m\u001b[0;34m,\u001b[0m \u001b[0mearly_stopping_rounds\u001b[0m\u001b[0;34m=\u001b[0m\u001b[0;36m15\u001b[0m \u001b[0;34m)\u001b[0m\u001b[0;34m\u001b[0m\u001b[0m\n\u001b[0m",
      "\u001b[0;32m/cvmfs/cms.cern.ch/slc6_amd64_gcc700/external/py2-xgboost/0.72/lib/python2.7/site-packages/xgboost/training.pyc\u001b[0m in \u001b[0;36mtrain\u001b[0;34m(params, dtrain, num_boost_round, evals, obj, feval, maximize, early_stopping_rounds, evals_result, verbose_eval, xgb_model, callbacks, learning_rates)\u001b[0m\n\u001b[1;32m    202\u001b[0m                            \u001b[0mevals\u001b[0m\u001b[0;34m=\u001b[0m\u001b[0mevals\u001b[0m\u001b[0;34m,\u001b[0m\u001b[0;34m\u001b[0m\u001b[0m\n\u001b[1;32m    203\u001b[0m                            \u001b[0mobj\u001b[0m\u001b[0;34m=\u001b[0m\u001b[0mobj\u001b[0m\u001b[0;34m,\u001b[0m \u001b[0mfeval\u001b[0m\u001b[0;34m=\u001b[0m\u001b[0mfeval\u001b[0m\u001b[0;34m,\u001b[0m\u001b[0;34m\u001b[0m\u001b[0m\n\u001b[0;32m--> 204\u001b[0;31m                            xgb_model=xgb_model, callbacks=callbacks)\n\u001b[0m\u001b[1;32m    205\u001b[0m \u001b[0;34m\u001b[0m\u001b[0m\n\u001b[1;32m    206\u001b[0m \u001b[0;34m\u001b[0m\u001b[0m\n",
      "\u001b[0;32m/cvmfs/cms.cern.ch/slc6_amd64_gcc700/external/py2-xgboost/0.72/lib/python2.7/site-packages/xgboost/training.pyc\u001b[0m in \u001b[0;36m_train_internal\u001b[0;34m(params, dtrain, num_boost_round, evals, obj, feval, xgb_model, callbacks)\u001b[0m\n\u001b[1;32m     82\u001b[0m         \u001b[0;31m# check evaluation result.\u001b[0m\u001b[0;34m\u001b[0m\u001b[0;34m\u001b[0m\u001b[0m\n\u001b[1;32m     83\u001b[0m         \u001b[0;32mif\u001b[0m \u001b[0mlen\u001b[0m\u001b[0;34m(\u001b[0m\u001b[0mevals\u001b[0m\u001b[0;34m)\u001b[0m \u001b[0;34m!=\u001b[0m \u001b[0;36m0\u001b[0m\u001b[0;34m:\u001b[0m\u001b[0;34m\u001b[0m\u001b[0m\n\u001b[0;32m---> 84\u001b[0;31m             \u001b[0mbst_eval_set\u001b[0m \u001b[0;34m=\u001b[0m \u001b[0mbst\u001b[0m\u001b[0;34m.\u001b[0m\u001b[0meval_set\u001b[0m\u001b[0;34m(\u001b[0m\u001b[0mevals\u001b[0m\u001b[0;34m,\u001b[0m \u001b[0mi\u001b[0m\u001b[0;34m,\u001b[0m \u001b[0mfeval\u001b[0m\u001b[0;34m)\u001b[0m\u001b[0;34m\u001b[0m\u001b[0m\n\u001b[0m\u001b[1;32m     85\u001b[0m             \u001b[0;32mif\u001b[0m \u001b[0misinstance\u001b[0m\u001b[0;34m(\u001b[0m\u001b[0mbst_eval_set\u001b[0m\u001b[0;34m,\u001b[0m \u001b[0mSTRING_TYPES\u001b[0m\u001b[0;34m)\u001b[0m\u001b[0;34m:\u001b[0m\u001b[0;34m\u001b[0m\u001b[0m\n\u001b[1;32m     86\u001b[0m                 \u001b[0mmsg\u001b[0m \u001b[0;34m=\u001b[0m \u001b[0mbst_eval_set\u001b[0m\u001b[0;34m\u001b[0m\u001b[0m\n",
      "\u001b[0;32m/cvmfs/cms.cern.ch/slc6_amd64_gcc700/external/py2-xgboost/0.72/lib/python2.7/site-packages/xgboost/core.pyc\u001b[0m in \u001b[0;36meval_set\u001b[0;34m(self, evals, iteration, feval)\u001b[0m\n\u001b[1;32m    953\u001b[0m                                               \u001b[0mdmats\u001b[0m\u001b[0;34m,\u001b[0m \u001b[0mevnames\u001b[0m\u001b[0;34m,\u001b[0m\u001b[0;34m\u001b[0m\u001b[0m\n\u001b[1;32m    954\u001b[0m                                               \u001b[0mc_bst_ulong\u001b[0m\u001b[0;34m(\u001b[0m\u001b[0mlen\u001b[0m\u001b[0;34m(\u001b[0m\u001b[0mevals\u001b[0m\u001b[0;34m)\u001b[0m\u001b[0;34m)\u001b[0m\u001b[0;34m,\u001b[0m\u001b[0;34m\u001b[0m\u001b[0m\n\u001b[0;32m--> 955\u001b[0;31m                                               ctypes.byref(msg)))\n\u001b[0m\u001b[1;32m    956\u001b[0m         \u001b[0mres\u001b[0m \u001b[0;34m=\u001b[0m \u001b[0mmsg\u001b[0m\u001b[0;34m.\u001b[0m\u001b[0mvalue\u001b[0m\u001b[0;34m.\u001b[0m\u001b[0mdecode\u001b[0m\u001b[0;34m(\u001b[0m\u001b[0;34m)\u001b[0m\u001b[0;34m\u001b[0m\u001b[0m\n\u001b[1;32m    957\u001b[0m         \u001b[0;32mif\u001b[0m \u001b[0mfeval\u001b[0m \u001b[0;32mis\u001b[0m \u001b[0;32mnot\u001b[0m \u001b[0mNone\u001b[0m\u001b[0;34m:\u001b[0m\u001b[0;34m\u001b[0m\u001b[0m\n",
      "\u001b[0;32m/cvmfs/cms.cern.ch/slc6_amd64_gcc700/external/py2-xgboost/0.72/lib/python2.7/site-packages/xgboost/core.pyc\u001b[0m in \u001b[0;36m_check_call\u001b[0;34m(ret)\u001b[0m\n\u001b[1;32m    128\u001b[0m     \"\"\"\n\u001b[1;32m    129\u001b[0m     \u001b[0;32mif\u001b[0m \u001b[0mret\u001b[0m \u001b[0;34m!=\u001b[0m \u001b[0;36m0\u001b[0m\u001b[0;34m:\u001b[0m\u001b[0;34m\u001b[0m\u001b[0m\n\u001b[0;32m--> 130\u001b[0;31m         \u001b[0;32mraise\u001b[0m \u001b[0mXGBoostError\u001b[0m\u001b[0;34m(\u001b[0m\u001b[0m_LIB\u001b[0m\u001b[0;34m.\u001b[0m\u001b[0mXGBGetLastError\u001b[0m\u001b[0;34m(\u001b[0m\u001b[0;34m)\u001b[0m\u001b[0;34m)\u001b[0m\u001b[0;34m\u001b[0m\u001b[0m\n\u001b[0m\u001b[1;32m    131\u001b[0m \u001b[0;34m\u001b[0m\u001b[0m\n\u001b[1;32m    132\u001b[0m \u001b[0;34m\u001b[0m\u001b[0m\n",
      "\u001b[0;31mXGBoostError\u001b[0m: [20:16:29] src/metric/rank_metric.cc:135: Check failed: !auc_error AUC: the dataset only contains pos or neg samples\n\nStack trace returned 10 entries:\n[bt] (0) /cvmfs/cms.cern.ch/slc6_amd64_gcc700/external/py2-xgboost/0.72/lib/python2.7/site-packages/xgboost/./lib/libxgboost.so(dmlc::StackTrace[abi:cxx11]()+0x3b) [0x7f923d958c7b]\n[bt] (1) /cvmfs/cms.cern.ch/slc6_amd64_gcc700/external/py2-xgboost/0.72/lib/python2.7/site-packages/xgboost/./lib/libxgboost.so(dmlc::LogMessageFatal::~LogMessageFatal()+0x29) [0x7f923d9593d9]\n[bt] (2) /cvmfs/cms.cern.ch/slc6_amd64_gcc700/external/py2-xgboost/0.72/lib/python2.7/site-packages/xgboost/./lib/libxgboost.so(xgboost::metric::EvalAuc::Eval(std::vector<float, std::allocator<float> > const&, xgboost::MetaInfo const&, bool) const+0xf46) [0x7f923da27fe6]\n[bt] (3) /cvmfs/cms.cern.ch/slc6_amd64_gcc700/external/py2-xgboost/0.72/lib/python2.7/site-packages/xgboost/./lib/libxgboost.so(xgboost::LearnerImpl::EvalOneIter(int, std::vector<xgboost::DMatrix*, std::allocator<xgboost::DMatrix*> > const&, std::vector<std::__cxx11::basic_string<char, std::char_traits<char>, std::allocator<char> >, std::allocator<std::__cxx11::basic_string<char, std::char_traits<char>, std::allocator<char> > > > const&)+0x248) [0x7f923d9620a8]\n[bt] (4) /cvmfs/cms.cern.ch/slc6_amd64_gcc700/external/py2-xgboost/0.72/lib/python2.7/site-packages/xgboost/./lib/libxgboost.so(XGBoosterEvalOneIter+0x364) [0x7f923d975a74]\n[bt] (5) /cvmfs/cms.cern.ch/slc6_amd64_gcc700/cms/cmssw/CMSSW_10_2_5/external/slc6_amd64_gcc700/lib/libffi.so.6(ffi_call_unix64+0x4c) [0x7f926a958242]\n[bt] (6) /cvmfs/cms.cern.ch/slc6_amd64_gcc700/cms/cmssw/CMSSW_10_2_5/external/slc6_amd64_gcc700/lib/libffi.so.6(ffi_call+0x1a1) [0x7f926a9572a1]\n[bt] (7) /cvmfs/cms.cern.ch/slc6_amd64_gcc700/external/python/2.7.14-omkpbe4/lib/python2.7/lib-dynload/_ctypes.so(_ctypes_callproc+0x485) [0x7f926a96e115]\n[bt] (8) /cvmfs/cms.cern.ch/slc6_amd64_gcc700/external/python/2.7.14-omkpbe4/lib/python2.7/lib-dynload/_ctypes.so(+0x8b0f) [0x7f926a964b0f]\n[bt] (9) /cvmfs/cms.cern.ch/slc6_amd64_gcc700/cms/cmssw/CMSSW_10_2_5/external/slc6_amd64_gcc700/lib/libpython2.7.so.1.0(PyObject_Call+0x43) [0x7f926d027ef3]\n\n"
     ]
    }
   ],
   "source": [
    "# Train\n",
    "bst = xgb.train( param.items(), dtrain, num_round, evallist, early_stopping_rounds=15 )"
   ]
  },
  {
   "cell_type": "code",
   "execution_count": null,
   "metadata": {},
   "outputs": [],
   "source": []
  }
 ],
 "metadata": {
  "kernelspec": {
   "display_name": "Python 2",
   "language": "python",
   "name": "python2"
  },
  "language_info": {
   "codemirror_mode": {
    "name": "ipython",
    "version": 2
   },
   "file_extension": ".py",
   "mimetype": "text/x-python",
   "name": "python",
   "nbconvert_exporter": "python",
   "pygments_lexer": "ipython2",
   "version": "2.7.14+"
  }
 },
 "nbformat": 4,
 "nbformat_minor": 2
}
